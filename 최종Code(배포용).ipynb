{
  "cells": [
    {
      "cell_type": "markdown",
      "metadata": {
        "id": "view-in-github",
        "colab_type": "text"
      },
      "source": [
        "<a href=\"https://colab.research.google.com/github/Kimtae00/python-codingtest/blob/main/%E1%84%8E%E1%85%AC%E1%84%8C%E1%85%A9%E1%86%BCCode(%E1%84%87%E1%85%A2%E1%84%91%E1%85%A9%E1%84%8B%E1%85%AD%E1%86%BC).ipynb\" target=\"_parent\"><img src=\"https://colab.research.google.com/assets/colab-badge.svg\" alt=\"Open In Colab\"/></a>"
      ]
    },
    {
      "cell_type": "markdown",
      "metadata": {
        "id": "37tqBOyV4d6Q"
      },
      "source": [
        "* 너무 어려운 문제는 제외하였습니다.\n",
        "* 문제 풀이는 워밍업, 18년, 19년, 20년, 21년 입사문제 풀이 순으로 진행합니다."
      ]
    },
    {
      "cell_type": "markdown",
      "metadata": {
        "id": "1Mv5-d124d6S"
      },
      "source": [
        "## 코테 전 준비사항\n",
        "\n",
        "1. 플렛폼에 익숙해지자! (프로그래머스, 구름EDU 등) - 사용 가능 라이브러리 미리 확인 등\n",
        "2. 언어 선택(속도 : C++, 풀이 : Python)\n",
        "3. 코드 스니펫(트리, 검색, 최단경로(예를 들어 다익스트라) 등), Cheat sheet, A4 용지 준비\n",
        "4. 유용한 라이브러리 정리! (collections_유튜브, itertools(순열 조합)_효율적인_루핑_만들기 등등)\n",
        "5. 기억해두자! 예외처리!"
      ]
    },
    {
      "cell_type": "markdown",
      "metadata": {
        "id": "eWmA7bow4d6T"
      },
      "source": [
        "## 1번 워밍업 문제(google)\n",
        "\n",
        "1부터 10,000까지 8이라는 숫자가 총 몇번 나오는가?\n",
        "\n",
        "8이 포함되어 있는 숫자의 갯수를 카운팅 하는 것이 아니라 8이라는 숫자를 모두 카운팅 해야 한다.\n",
        "(※ 예를들어 8808은 3, 8888은 4로 카운팅 해야 함)\n",
        "\n",
        "문제 링크 : https://codingdojang.com/scode/393"
      ]
    },
    {
      "cell_type": "code",
      "execution_count": null,
      "metadata": {
        "id": "z9qdj_254d6T"
      },
      "outputs": [],
      "source": [
        "[0, 0, 0, 0]\n",
        "[9, 9, 9, 9]"
      ]
    },
    {
      "cell_type": "code",
      "execution_count": null,
      "metadata": {
        "id": "K0Mskfl44d6U",
        "outputId": "efbc93b5-bb87-40de-a7cb-c21705967ae8"
      },
      "outputs": [
        {
          "name": "stdout",
          "output_type": "stream",
          "text": [
            "17.3 µs ± 286 ns per loop (mean ± std. dev. of 7 runs, 100000 loops each)\n"
          ]
        }
      ],
      "source": [
        "%%timeit\n",
        "\n",
        "str(list(range(1, 101)))\n",
        "str(list(range(1, 101))).count('8')"
      ]
    },
    {
      "cell_type": "code",
      "execution_count": null,
      "metadata": {
        "id": "yweCxGDG4d6V",
        "outputId": "0542e974-6b65-4322-9352-697dac68ae54"
      },
      "outputs": [
        {
          "data": {
            "text/plain": [
              "4000"
            ]
          },
          "execution_count": 5,
          "metadata": {},
          "output_type": "execute_result"
        }
      ],
      "source": [
        "count = 0\n",
        "for i in range(10001):\n",
        "    if '8' in str(i):\n",
        "        count += str(i).count('8')\n",
        "\n",
        "count"
      ]
    },
    {
      "cell_type": "code",
      "execution_count": null,
      "metadata": {
        "id": "SRAhJrdR4d6W",
        "outputId": "b29a61a6-c13d-49c4-df8f-35d3ec75efe3"
      },
      "outputs": [
        {
          "data": {
            "text/plain": [
              "4000"
            ]
          },
          "execution_count": 6,
          "metadata": {},
          "output_type": "execute_result"
        }
      ],
      "source": [
        "str(list(range(1, 10001))).count('8')"
      ]
    },
    {
      "cell_type": "code",
      "execution_count": null,
      "metadata": {
        "id": "KQ5DKvHW4d6W",
        "outputId": "18b50d4f-7ab2-4b69-aeb5-d239fe8c069a"
      },
      "outputs": [
        {
          "data": {
            "text/plain": [
              "4000"
            ]
          },
          "execution_count": 7,
          "metadata": {},
          "output_type": "execute_result"
        }
      ],
      "source": [
        "str([i for i in range(10001)]).count('8')"
      ]
    },
    {
      "cell_type": "markdown",
      "metadata": {
        "id": "UbsJ4Q9X4d6W"
      },
      "source": [
        "## 2번 워밍업 문제(daum)\n",
        "\n",
        "1차원의 점들이 주어졌을 때, 그 중 가장 거리가 짧은 것의 쌍을 출력하는 함수를 작성하시오. (단 점들의 배열은 모두 정렬되어있다고 가정한다.)\n",
        "\n",
        "예를들어 S = [1, 3, 4, 8, 13, 17, 20] 이 주어졌다면, 결과값은 (3, 4)가 될 것이다.\n",
        "\n",
        "문제링크 : https://codingdojang.com/scode/408"
      ]
    },
    {
      "cell_type": "code",
      "execution_count": null,
      "metadata": {
        "id": "zZ998pYq4d6X",
        "outputId": "08532020-b786-4e51-c42b-854379a972f1"
      },
      "outputs": [
        {
          "data": {
            "text/plain": [
              "20"
            ]
          },
          "execution_count": 8,
          "metadata": {},
          "output_type": "execute_result"
        }
      ],
      "source": [
        "s = [1, 3, 4, 8, 13, 17, 20]\n",
        "m = max(s)\n",
        "m"
      ]
    },
    {
      "cell_type": "code",
      "execution_count": null,
      "metadata": {
        "id": "jDuQUx4O4d6X",
        "outputId": "2a2a1a85-dd9f-46d7-c5b3-1f67ee7ce7d3"
      },
      "outputs": [
        {
          "data": {
            "text/plain": [
              "(3, 4)"
            ]
          },
          "execution_count": 10,
          "metadata": {},
          "output_type": "execute_result"
        }
      ],
      "source": [
        "s = [1, 3, 4, 8, 13, 17, 20]\n",
        "m = max(s)\n",
        "index = 0\n",
        "for i in range(len(s) - 1):\n",
        "    if m > s[i+1] - s[i]:\n",
        "        index = i\n",
        "        m = s[i+1] - s[i]\n",
        "\n",
        "s[index], s[index+1]"
      ]
    },
    {
      "cell_type": "code",
      "execution_count": null,
      "metadata": {
        "id": "hsMFsUjk4d6Y",
        "outputId": "0957e8e4-8929-4aaf-c650-49cbe332c2b0"
      },
      "outputs": [
        {
          "data": {
            "text/plain": [
              "[(1, 3), (3, 4), (4, 8), (8, 13), (13, 17), (17, 20)]"
            ]
          },
          "execution_count": 14,
          "metadata": {},
          "output_type": "execute_result"
        }
      ],
      "source": [
        "s = [1, 3, 4, 8, 13, 17, 20]\n",
        "ss = [3, 4, 8, 13, 17, 20]\n",
        "\n",
        "list(zip(s, ss))"
      ]
    },
    {
      "cell_type": "code",
      "execution_count": null,
      "metadata": {
        "id": "1hBweqIo4d6Z",
        "outputId": "8beb8305-0368-4104-fb1d-6dea480310f1"
      },
      "outputs": [
        {
          "data": {
            "text/plain": [
              "(3, 4)"
            ]
          },
          "execution_count": 19,
          "metadata": {},
          "output_type": "execute_result"
        }
      ],
      "source": [
        "s = [1, 3, 4, 8, 13, 17, 20]\n",
        "ss = [3, 4, 8, 13, 17, 20]\n",
        "\n",
        "sorted(list(zip(s, ss)), key=lambda i: i[1]-i[0])[0]"
      ]
    },
    {
      "cell_type": "code",
      "execution_count": null,
      "metadata": {
        "id": "IVi6J3-G4d6Z",
        "outputId": "b37b6fe3-8fca-4da5-e7ef-f695f4076011"
      },
      "outputs": [
        {
          "data": {
            "text/plain": [
              "[(3, 4), (1, 3), (17, 20), (4, 8), (13, 17), (8, 13)]"
            ]
          },
          "execution_count": 20,
          "metadata": {},
          "output_type": "execute_result"
        }
      ],
      "source": [
        "def 두수의차(i):\n",
        "    return i[1] - i[0]\n",
        "\n",
        "sorted(list(zip(s, ss)), key=두수의차)"
      ]
    },
    {
      "cell_type": "markdown",
      "metadata": {
        "id": "1Csy6jNV4d6a"
      },
      "source": [
        "## 3번 카카오 2018 공채 문제 1번\n",
        "\n",
        "* 문제는 한 해 전에 공개됩니다. 예를 들어 2020 공채라면 19년에 시험을 보기 때문입니다.\n",
        "* 링크 : https://tech.kakao.com/2017/09/27/kakao-blind-recruitment-round-1/"
      ]
    },
    {
      "cell_type": "code",
      "execution_count": null,
      "metadata": {
        "id": "lPHwuaEG4d6a",
        "outputId": "013a7655-fdea-46da-a479-7d15a0b8a612"
      },
      "outputs": [
        {
          "data": {
            "text/plain": [
              "'0b1001'"
            ]
          },
          "execution_count": 21,
          "metadata": {},
          "output_type": "execute_result"
        }
      ],
      "source": [
        "bin(9)"
      ]
    },
    {
      "cell_type": "code",
      "execution_count": null,
      "metadata": {
        "id": "ZI-N0ZYJ4d6a",
        "outputId": "7e7dbbef-41af-4438-8fe8-2160c9750b7b"
      },
      "outputs": [
        {
          "data": {
            "text/plain": [
              "'0b11110'"
            ]
          },
          "execution_count": 22,
          "metadata": {},
          "output_type": "execute_result"
        }
      ],
      "source": [
        "bin(30)"
      ]
    },
    {
      "cell_type": "code",
      "execution_count": null,
      "metadata": {
        "id": "TDpZQIKK4d6a"
      },
      "outputs": [],
      "source": [
        "#  1001\n",
        "# 11110\n",
        "# -----\n",
        "# 11111"
      ]
    },
    {
      "cell_type": "code",
      "execution_count": null,
      "metadata": {
        "id": "jXJyk2pt4d6b",
        "outputId": "2750d1d5-f09d-468f-9658-5d3b35899945"
      },
      "outputs": [
        {
          "data": {
            "text/plain": [
              "'#####'"
            ]
          },
          "execution_count": 26,
          "metadata": {},
          "output_type": "execute_result"
        }
      ],
      "source": [
        "bin(9 | 30)[2:].replace('1', '#').replace('0', ' ')"
      ]
    },
    {
      "cell_type": "code",
      "execution_count": null,
      "metadata": {
        "id": "yOwLTNAG4d6b",
        "outputId": "a5f41dc0-9405-4fdf-a92d-82cbd2a176b7"
      },
      "outputs": [
        {
          "name": "stdout",
          "output_type": "stream",
          "text": [
            "(9, 30)\n",
            "(20, 1)\n",
            "(28, 21)\n",
            "(18, 17)\n",
            "(11, 28)\n"
          ]
        }
      ],
      "source": [
        "arr1 = [9, 20, 28, 18, 11]\n",
        "arr2 = [30, 1, 21, 17, 28]\n",
        "n = 5\n",
        "\n",
        "for i in zip(arr1, arr2):\n",
        "    print(i)"
      ]
    },
    {
      "cell_type": "code",
      "execution_count": null,
      "metadata": {
        "id": "X8j1GLsM4d6b",
        "outputId": "96b77829-1512-45af-df59-0c5d789e5a52"
      },
      "outputs": [
        {
          "name": "stdout",
          "output_type": "stream",
          "text": [
            "9 30\n",
            "20 1\n",
            "28 21\n",
            "18 17\n",
            "11 28\n"
          ]
        }
      ],
      "source": [
        "for i, j in zip(arr1, arr2):\n",
        "    print(i, j)"
      ]
    },
    {
      "cell_type": "code",
      "execution_count": null,
      "metadata": {
        "id": "fdU9eITR4d6c",
        "outputId": "5a5104c1-1207-4d45-f63d-100930fd5c48"
      },
      "outputs": [
        {
          "name": "stdout",
          "output_type": "stream",
          "text": [
            "#####\n",
            "# # #\n",
            "### #\n",
            "#  ##\n",
            "#####\n"
          ]
        }
      ],
      "source": [
        "for i, j in zip(arr1, arr2):\n",
        "    print(bin(i | j)[2:].replace('1', '#').replace('0', ' '))"
      ]
    },
    {
      "cell_type": "code",
      "execution_count": null,
      "metadata": {
        "id": "QQBIbvXI4d6d"
      },
      "outputs": [],
      "source": [
        "#  11\n",
        "# 101\n",
        "# ---\n",
        "# 111"
      ]
    },
    {
      "cell_type": "code",
      "execution_count": null,
      "metadata": {
        "scrolled": true,
        "id": "pyz3o2xw4d6d",
        "outputId": "4184ac5b-eabe-4996-ff77-b224416997b9"
      },
      "outputs": [
        {
          "name": "stdout",
          "output_type": "stream",
          "text": [
            "###\n",
            "# # #\n",
            "### #\n",
            "#  ##\n",
            "#####\n"
          ]
        }
      ],
      "source": [
        "arr1 = [3, 20, 28, 18, 11]\n",
        "arr2 = [5, 1, 21, 17, 28]\n",
        "\n",
        "for i, j in zip(arr1, arr2):\n",
        "    print(bin(i | j)[2:].replace('1', '#').replace('0', ' '))"
      ]
    },
    {
      "cell_type": "code",
      "execution_count": null,
      "metadata": {
        "id": "DeTcFIyw4d6d",
        "outputId": "df33da3a-4224-466c-90cd-19b98e8cd5fd"
      },
      "outputs": [
        {
          "name": "stdout",
          "output_type": "stream",
          "text": [
            "0000000111\n",
            "0000010101\n",
            "0000011101\n",
            "0000010011\n",
            "0000011111\n"
          ]
        }
      ],
      "source": [
        "arr1 = [3, 20, 28, 18, 11]\n",
        "arr2 = [5, 1, 21, 17, 28]\n",
        "n = 5\n",
        "\n",
        "for i, j in zip(arr1, arr2):\n",
        "    print(bin(i | j)[2:].zfill(10))"
      ]
    },
    {
      "cell_type": "code",
      "execution_count": null,
      "metadata": {
        "scrolled": true,
        "id": "QWyFhMp54d6e",
        "outputId": "0f048db5-7422-45d0-884e-6061c7e00c19"
      },
      "outputs": [
        {
          "name": "stdout",
          "output_type": "stream",
          "text": [
            "  ###\n",
            "# # #\n",
            "### #\n",
            "#  ##\n",
            "#####\n"
          ]
        }
      ],
      "source": [
        "arr1 = [3, 20, 28, 18, 11]\n",
        "arr2 = [5, 1, 21, 17, 28]\n",
        "n = 5\n",
        "\n",
        "for i, j in zip(arr1, arr2):\n",
        "    print(bin(i | j)[2:].zfill(n).replace('1', '#').replace('0', ' '))"
      ]
    },
    {
      "cell_type": "code",
      "execution_count": null,
      "metadata": {
        "id": "RaQLbPTf4d6e",
        "outputId": "ca3efe63-e668-42cf-d92f-47756dd710c9"
      },
      "outputs": [
        {
          "name": "stdout",
          "output_type": "stream",
          "text": [
            "['#####', '# # #', '### #', '#  ##', '#####']\n",
            "['#####', '   ##', '### #', '#  ##', '#####']\n",
            "['######', '###  #', '##  ##', ' #### ', ' #####', '### # ']\n"
          ]
        }
      ],
      "source": [
        "def solution(n, arr1, arr2):\n",
        "    answer = []\n",
        "    for i, j in zip(arr1, arr2):\n",
        "        answer.append(bin(i | j)[2:].zfill(n).replace('1', '#').replace('0', ' '))\n",
        "    return answer\n",
        "\n",
        "testcase = [(5, [9, 20, 28, 18, 11], [30, 1, 21, 17, 28]),\n",
        "            (5, [9, 3, 28, 18, 11], [30, 1, 21, 17, 28]),\n",
        "            (6, [46, 33, 33 ,22, 31, 50], [27 ,56, 19, 14, 14, 10])]\n",
        "\n",
        "for i, j, k in testcase:\n",
        "    print(solution(i, j, k))"
      ]
    },
    {
      "cell_type": "markdown",
      "metadata": {
        "id": "5RhrhYDw4d6e"
      },
      "source": [
        "## 3번 2018 카카오 입사문제 2번"
      ]
    },
    {
      "cell_type": "code",
      "execution_count": null,
      "metadata": {
        "id": "7pyuZXBy4d6e"
      },
      "outputs": [],
      "source": [
        "def solution(dartResult):\n",
        "    점수 = []\n",
        "    for i in dartResult:\n",
        "        if i == 'S':\n",
        "            pass\n",
        "        if i == 'D':\n",
        "            pass\n",
        "        if i == 'T':\n",
        "            pass\n",
        "        if i == '*':\n",
        "            pass\n",
        "        if i == '#':\n",
        "            pass\n",
        "        else:\n",
        "            pass"
      ]
    },
    {
      "cell_type": "code",
      "execution_count": null,
      "metadata": {
        "scrolled": true,
        "id": "UXXEe5lT4d6f",
        "outputId": "25e14b8b-d883-46ad-b8a9-4b140d635e8d"
      },
      "outputs": [
        {
          "name": "stdout",
          "output_type": "stream",
          "text": [
            "3\n"
          ]
        }
      ],
      "source": [
        "def solution(dartResult):\n",
        "    answer = []\n",
        "    for num, i in enumerate(dartResult, 1):\n",
        "        if i == 'S':\n",
        "            answer[-1] **= 1\n",
        "        elif i == 'D':\n",
        "            answer[-1] **= 2\n",
        "        elif i == 'T':\n",
        "            answer[-1] **= 3\n",
        "        elif i == '*':\n",
        "            answer[-1] *= 2\n",
        "            if len(answer) == 2:\n",
        "                answer[-2] *= 2\n",
        "        elif i == '#':\n",
        "            answer[-1] *= -1\n",
        "        else:\n",
        "            if dartResult[num-1:num+1] == '10':\n",
        "                answer.append(10)\n",
        "            elif dartResult[num-2:num] != '10':\n",
        "                answer.append(int(i))\n",
        "\n",
        "    return sum(answer)\n",
        "\n",
        "print(solution('1D2S0T'))"
      ]
    },
    {
      "cell_type": "code",
      "execution_count": null,
      "metadata": {
        "id": "KARx4o1F4d6f",
        "outputId": "2e19f8b6-b230-44ed-a225-751f19f1db68"
      },
      "outputs": [
        {
          "data": {
            "text/plain": [
              "[('1', 'D', ''), ('2', 'S', '#'), ('10', 'S', '')]"
            ]
          },
          "execution_count": 64,
          "metadata": {},
          "output_type": "execute_result"
        }
      ],
      "source": [
        "import re\n",
        "\n",
        "testcase = ['1S2D*3T', '1D2S#10S']\n",
        "패턴 = re.compile(r'([0-9]|10)([SDT])([\\*\\#]?)')\n",
        "패턴.findall(testcase[1])"
      ]
    },
    {
      "cell_type": "code",
      "execution_count": null,
      "metadata": {
        "id": "080Wxz1n4d6f",
        "outputId": "41372789-82e6-412b-f63b-fd950cbf1340"
      },
      "outputs": [
        {
          "name": "stdout",
          "output_type": "stream",
          "text": [
            "1 S \n",
            "2 D *\n",
            "3 T \n",
            "37\n"
          ]
        }
      ],
      "source": [
        "import re\n",
        "\n",
        "def solution(dartResult):\n",
        "    패턴 = re.compile(r'([0-9]|10)([SDT])([\\*\\#]?)')\n",
        "    answer = []\n",
        "    계산식 = {\n",
        "        'S':lambda 값:값,\n",
        "        'D':lambda 값:값**2,\n",
        "        'T':lambda 값:값**3\n",
        "    }\n",
        "    for 숫자, 승수, 상 in 패턴.findall(dartResult):\n",
        "        print(숫자, 승수, 상)\n",
        "        if 승수 == 'S':\n",
        "            점수 = 계산식['S'](int(숫자))\n",
        "        elif 승수 == 'D':\n",
        "            점수 = 계산식['D'](int(숫자))\n",
        "        elif 승수 == 'T':\n",
        "            점수 = 계산식['T'](int(숫자))\n",
        "        if 상 == '*':\n",
        "            점수 *= 2\n",
        "            if answer:\n",
        "                answer[-1] *= 2\n",
        "        elif 상 == '#':\n",
        "            점수 *= -1\n",
        "        answer.append(점수)\n",
        "\n",
        "    return sum(answer)\n",
        "\n",
        "print(solution('1S2D*3T'))"
      ]
    },
    {
      "cell_type": "markdown",
      "metadata": {
        "id": "7hLxj8R44d6g"
      },
      "source": [
        "## 5번 카카오 2018 공채 문제 3번"
      ]
    },
    {
      "cell_type": "code",
      "execution_count": null,
      "metadata": {
        "id": "r-MRJ4Oj4d6g"
      },
      "outputs": [],
      "source": [
        "도시이름 = ['Jeju', 'Pangyo', 'Seoul', 'NewYork', 'LA', 'Jeju', 'Pangyo', 'Seoul', 'NewYork', 'LA']"
      ]
    },
    {
      "cell_type": "code",
      "execution_count": null,
      "metadata": {
        "id": "_fxIvCZg4d6g"
      },
      "outputs": [],
      "source": [
        "['Jeju']\n",
        "['Jeju', 'Pangyo', 'Seoul']\n",
        "['Pangyo', 'Seoul', 'NewYork']\n",
        "['Seoul', 'NewYork', 'LA'] #만약 이 다음에 NewYork이 온다면?\n",
        "['Seoul', 'LA', 'NewYork'] #만약 이 다음에 NewYork이 온다면?\n",
        "['Seoul', 'LA', 'NewYork']"
      ]
    },
    {
      "cell_type": "code",
      "execution_count": null,
      "metadata": {
        "id": "6eJx_j8l4d6g",
        "outputId": "87796dfb-8e24-4add-a258-e2f41da14814"
      },
      "outputs": [
        {
          "data": {
            "text/plain": [
              "deque([10, 20, 30, 40])"
            ]
          },
          "execution_count": 71,
          "metadata": {},
          "output_type": "execute_result"
        }
      ],
      "source": [
        "from collections import deque\n",
        "\n",
        "l = [10, 20, 30, 40]\n",
        "d = deque(l)\n",
        "d"
      ]
    },
    {
      "cell_type": "code",
      "execution_count": null,
      "metadata": {
        "scrolled": true,
        "id": "KMloZhU94d6h",
        "outputId": "8596943f-58ca-4943-c76c-6265ad6ed740"
      },
      "outputs": [
        {
          "data": {
            "text/plain": [
              "['__add__',\n",
              " '__bool__',\n",
              " '__class__',\n",
              " '__contains__',\n",
              " '__copy__',\n",
              " '__delattr__',\n",
              " '__delitem__',\n",
              " '__dir__',\n",
              " '__doc__',\n",
              " '__eq__',\n",
              " '__format__',\n",
              " '__ge__',\n",
              " '__getattribute__',\n",
              " '__getitem__',\n",
              " '__gt__',\n",
              " '__hash__',\n",
              " '__iadd__',\n",
              " '__imul__',\n",
              " '__init__',\n",
              " '__init_subclass__',\n",
              " '__iter__',\n",
              " '__le__',\n",
              " '__len__',\n",
              " '__lt__',\n",
              " '__mul__',\n",
              " '__ne__',\n",
              " '__new__',\n",
              " '__reduce__',\n",
              " '__reduce_ex__',\n",
              " '__repr__',\n",
              " '__reversed__',\n",
              " '__rmul__',\n",
              " '__setattr__',\n",
              " '__setitem__',\n",
              " '__sizeof__',\n",
              " '__str__',\n",
              " '__subclasshook__',\n",
              " 'append',\n",
              " 'appendleft',\n",
              " 'clear',\n",
              " 'copy',\n",
              " 'count',\n",
              " 'extend',\n",
              " 'extendleft',\n",
              " 'index',\n",
              " 'insert',\n",
              " 'maxlen',\n",
              " 'pop',\n",
              " 'popleft',\n",
              " 'remove',\n",
              " 'reverse',\n",
              " 'rotate']"
            ]
          },
          "execution_count": 72,
          "metadata": {},
          "output_type": "execute_result"
        }
      ],
      "source": [
        "dir(d)"
      ]
    },
    {
      "cell_type": "code",
      "execution_count": null,
      "metadata": {
        "id": "CAY1Akhn4d6h",
        "outputId": "9cab50cc-679c-4bd2-c6c6-fcf9bb1c6177"
      },
      "outputs": [
        {
          "data": {
            "text/plain": [
              "deque(['', '', 'hello'])"
            ]
          },
          "execution_count": 75,
          "metadata": {},
          "output_type": "execute_result"
        }
      ],
      "source": [
        "from collections import deque\n",
        "\n",
        "l = [''] * 3\n",
        "cache = deque(l, maxlen=3)\n",
        "cache.append('hello')\n",
        "cache"
      ]
    },
    {
      "cell_type": "code",
      "execution_count": null,
      "metadata": {
        "id": "TzbdzVYF4d6h",
        "outputId": "8c5fbf21-65bd-4516-85ad-69a6ffd8f13d"
      },
      "outputs": [
        {
          "data": {
            "text/plain": [
              "deque(['', 'hello', 'hello'])"
            ]
          },
          "execution_count": 76,
          "metadata": {},
          "output_type": "execute_result"
        }
      ],
      "source": [
        "cache.append('hello')\n",
        "cache"
      ]
    },
    {
      "cell_type": "code",
      "execution_count": null,
      "metadata": {
        "id": "uKnWedg-4d6i",
        "outputId": "229d1510-2593-4eaa-8fdd-5d38af9b151c"
      },
      "outputs": [
        {
          "data": {
            "text/plain": [
              "deque(['hello', 'hello', 'hello2'])"
            ]
          },
          "execution_count": 77,
          "metadata": {},
          "output_type": "execute_result"
        }
      ],
      "source": [
        "cache.append('hello2')\n",
        "cache"
      ]
    },
    {
      "cell_type": "code",
      "execution_count": null,
      "metadata": {
        "id": "Gc2DhzHx4d6i",
        "outputId": "82ff7fe0-5122-4677-d785-8fc6ac51d0ad"
      },
      "outputs": [
        {
          "data": {
            "text/plain": [
              "deque(['hello', 'hello2', 'hello3'])"
            ]
          },
          "execution_count": 78,
          "metadata": {},
          "output_type": "execute_result"
        }
      ],
      "source": [
        "cache.append('hello3')\n",
        "cache"
      ]
    },
    {
      "cell_type": "code",
      "execution_count": null,
      "metadata": {
        "id": "VQzRgESd4d6i",
        "outputId": "a28ba4ec-3caa-44a9-e30f-3aba9e3268c7"
      },
      "outputs": [
        {
          "name": "stdout",
          "output_type": "stream",
          "text": [
            "50\n",
            "21\n"
          ]
        }
      ],
      "source": [
        "from collections import deque\n",
        "\n",
        "def solution(cacheSize, cities):\n",
        "    l = [''] * cacheSize\n",
        "    cache = deque(l, maxlen=cacheSize)\n",
        "    answer = 0 #시간\n",
        "    for city in cities:\n",
        "        city = city.lower()\n",
        "        if city in cache:\n",
        "            cache.remove(city)\n",
        "            cache.append(city)\n",
        "            answer += 1\n",
        "        else:\n",
        "            cache.append(city)\n",
        "            answer += 5\n",
        "    return answer\n",
        "\n",
        "testcase = [\n",
        "    [3, ['Jeju', 'Pangyo', 'Seoul', 'NewYork', 'LA', 'Jeju', 'Pangyo', 'Seoul', 'NewYork', 'LA']],\n",
        "    [3, ['Jeju', 'Pangyo', 'Seoul', 'Jeju', 'Pangyo', 'Seoul', 'Jeju', 'Pangyo', 'Seoul']]\n",
        "]\n",
        "\n",
        "for case in testcase:\n",
        "    print(solution(case[0], case[1]))"
      ]
    },
    {
      "cell_type": "markdown",
      "metadata": {
        "id": "qX-veTTy4d6j"
      },
      "source": [
        "## 6번 카카오 2018 공채 문제 4번"
      ]
    },
    {
      "cell_type": "code",
      "execution_count": null,
      "metadata": {
        "id": "NF5e3cdY4d6j",
        "outputId": "3e72d1ca-f6b5-46b2-8f24-de71d638846d"
      },
      "outputs": [
        {
          "name": "stdout",
          "output_type": "stream",
          "text": [
            "09:00\n",
            "09:09\n",
            "08:59\n"
          ]
        }
      ],
      "source": [
        "def solution(n, t, m, timetable):\n",
        "    timetable = sorted([int(i[:2]) * 60 + int(i[3:]) for i in timetable])\n",
        "\n",
        "    콘의출근시간 = 540\n",
        "    셔틀버스시간 = 540\n",
        "\n",
        "    for i in range(n):\n",
        "        for j in range(m):\n",
        "            if timetable and timetable[0] <= 셔틀버스시간:\n",
        "                콘의출근시간 = timetable.pop(0) - 1\n",
        "            else:\n",
        "                콘의출근시간 = 셔틀버스시간\n",
        "        셔틀버스시간 += t\n",
        "\n",
        "    return f'{str(콘의출근시간//60).zfill(2)}:{str(콘의출근시간%60).zfill(2)}'\n",
        "\n",
        "testcase = [\n",
        "    (1, 1, 5, ['08:00', '08:01', '08:02', '08:03']),\n",
        "    (2, 10, 2, ['09:10', '09:09', '08:00']),\n",
        "    (1, 2, 1, ['09:00', '09:00', '09:00', '09:00'])\n",
        "]\n",
        "\n",
        "for n, t, m, timetable in testcase:\n",
        "    print(solution(n, t, m, timetable))"
      ]
    },
    {
      "cell_type": "markdown",
      "metadata": {
        "id": "9VXRcwlu4d6k"
      },
      "source": [
        "## 7번 카카오 2018 공채 문제 5번"
      ]
    },
    {
      "cell_type": "code",
      "execution_count": null,
      "metadata": {
        "scrolled": true,
        "id": "6yR6en994d6k",
        "outputId": "f6b402ae-d00d-4f3c-a5c5-3d3f43e73b3b"
      },
      "outputs": [
        {
          "name": "stdout",
          "output_type": "stream",
          "text": [
            "['fr', 'ra', 'an', 'nc', 'ce'] ['fr', 're', 'en', 'nc', 'ch']\n",
            "16384.0\n",
            "['ha', 'an', 'nd', 'ds', 'sh', 'ha', 'ak', 'ke'] ['sh', 'ha', 'ak', 'ke', 'ha', 'an', 'nd', 'ds']\n",
            "65536.0\n",
            "['aa', 'aa'] ['aa', 'aa']\n",
            "65536.0\n"
          ]
        }
      ],
      "source": [
        "# 다중 집합을 허락하지 않았을 때(일반 집합으로 풀었을 때)\n",
        "import re\n",
        "\n",
        "def solution(str1, str2):\n",
        "    str1 = str1.lower()\n",
        "    str2 = str2.lower()\n",
        "\n",
        "    str1List = []\n",
        "    str2List = []\n",
        "\n",
        "    패턴 = re.compile(r'[a-z]{2}')\n",
        "\n",
        "    for i in range(len(str1)-1):\n",
        "        문자열 = str1[i]+str1[i+1]\n",
        "        if 패턴.findall(문자열):\n",
        "            str1List.append(문자열)\n",
        "\n",
        "    for i in range(len(str2)-1):\n",
        "        문자열 = str2[i]+str2[i+1]\n",
        "        if 패턴.findall(문자열):\n",
        "            str2List.append(문자열)\n",
        "\n",
        "    print(str1List, str2List)\n",
        "    교집합 = set(str1List) & set(str2List)\n",
        "    합집합 = set(str1List) | set(str2List)\n",
        "\n",
        "    return len(교집합) / len(합집합) * 65536\n",
        "\n",
        "\n",
        "testcase = [\n",
        "    ('FRANCE', 'french'),\n",
        "    ('handshake', 'shake hands'),\n",
        "    ('aa1+aa2', 'A++++++AAA12')\n",
        "]\n",
        "\n",
        "for str1, str2 in testcase:\n",
        "    print(solution(str1, str2))"
      ]
    },
    {
      "cell_type": "code",
      "execution_count": null,
      "metadata": {
        "scrolled": true,
        "id": "wxKbVRhI4d6k",
        "outputId": "d749c5fb-9c6d-40ea-a398-9556b2503c76"
      },
      "outputs": [
        {
          "name": "stdout",
          "output_type": "stream",
          "text": [
            "['fr', 'ra', 'an', 'nc', 'ce'] ['fr', 're', 'en', 'nc', 'ch']\n",
            "0\n",
            "0\n",
            "16384\n",
            "['ha', 'an', 'nd', 'ds', 'sh', 'ha', 'ak', 'ke'] ['sh', 'ha', 'ak', 'ke', 'ha', 'an', 'nd', 'ds']\n",
            "1\n",
            "1\n",
            "65536\n",
            "['aa', 'aa'] ['aa', 'aa', 'aa']\n",
            "1\n",
            "2\n",
            "43690\n"
          ]
        }
      ],
      "source": [
        "# 다중 집합으로 풀었을 때(collections counter를 사용하시면 편리하게 풀 수 있습니다.)\n",
        "import re\n",
        "\n",
        "def solution(str1, str2):\n",
        "    str1 = str1.lower()\n",
        "    str2 = str2.lower()\n",
        "\n",
        "    str1List = []\n",
        "    str2List = []\n",
        "\n",
        "    패턴 = re.compile(r'[a-z]{2}')\n",
        "\n",
        "    for i in range(len(str1)-1):\n",
        "        문자열 = str1[i]+str1[i+1]\n",
        "        if 패턴.findall(문자열):\n",
        "            str1List.append(문자열)\n",
        "\n",
        "    for i in range(len(str2)-1):\n",
        "        문자열 = str2[i]+str2[i+1]\n",
        "        if 패턴.findall(문자열):\n",
        "            str2List.append(문자열)\n",
        "\n",
        "    print(str1List, str2List)\n",
        "    교집합 = set(str1List) & set(str2List)\n",
        "    합집합 = set(str1List) | set(str2List)\n",
        "\n",
        "    교집합추가수 = 0\n",
        "\n",
        "    for i in 교집합:\n",
        "        if str1List.count(i) > 1 and str2List.count(i) > 1:\n",
        "            if str1List.count(i) > str2List.count(i):\n",
        "                교집합추가수 += str2List.count(i)-1\n",
        "            else:\n",
        "                교집합추가수 += str1List.count(i)-1\n",
        "\n",
        "    print(교집합추가수)\n",
        "\n",
        "    합집합추가수 = 0\n",
        "\n",
        "    for i in 합집합:\n",
        "        if str1List.count(i) > 1 and str2List.count(i) > 1:\n",
        "            if str1List.count(i) > str2List.count(i):\n",
        "                합집합추가수 += str1List.count(i)-1\n",
        "            else:\n",
        "                합집합추가수 += str2List.count(i)-1\n",
        "\n",
        "    print(합집합추가수)\n",
        "\n",
        "    return int((len(교집합) + 교집합추가수) / (len(합집합) + 합집합추가수) * 65536)\n",
        "\n",
        "\n",
        "testcase = [\n",
        "    ('FRANCE', 'french'),\n",
        "    ('handshake', 'shake hands'),\n",
        "    ('aa1+aa2', 'AAAA12')\n",
        "]\n",
        "\n",
        "# 올림은 ceil, 반올림은 round\n",
        "for str1, str2 in testcase:\n",
        "    print(solution(str1, str2))"
      ]
    },
    {
      "cell_type": "code",
      "execution_count": null,
      "metadata": {
        "id": "6SKJ1vwa4d6l"
      },
      "outputs": [],
      "source": [
        "#예외처리 추가\n",
        "if len(str1) <= 1 and len(str2) <= 1 :\n",
        "        return 65536"
      ]
    },
    {
      "cell_type": "code",
      "execution_count": null,
      "metadata": {
        "id": "t65aUnfF4d6l"
      },
      "outputs": [],
      "source": [
        "#마지막에 추가\n",
        "    if (len(합집합) + 합집합추가수) == 0:\n",
        "        return 65536\n",
        "    if (len(교집합) + 교집합추가수) == 0:\n",
        "        return 0"
      ]
    },
    {
      "cell_type": "code",
      "execution_count": null,
      "metadata": {
        "id": "oU8X09fn4d6l"
      },
      "outputs": [],
      "source": [
        "#여기서 옵션이 or로 변경되어야 함\n",
        "for i in 합집합:\n",
        "        if str1List.count(i) > 1 or str2List.count(i) > 1:\n",
        "            if str1List.count(i) > str2List.count(i):\n",
        "                합집합추가수 += str1List.count(i)-1\n",
        "            else:\n",
        "                합집합추가수 += str2List.count(i)-1"
      ]
    },
    {
      "cell_type": "code",
      "execution_count": null,
      "metadata": {
        "id": "NJUkca1Q4d6m",
        "outputId": "4d841cbf-b254-480a-b630-91cad0b6d2ee"
      },
      "outputs": [
        {
          "name": "stdout",
          "output_type": "stream",
          "text": [
            "['fr', 'ra', 'an', 'nc', 'ce'] ['fr', 're', 'en', 'nc', 'ch']\n",
            "{'fr', 'nc'}\n",
            "0\n",
            "{'an', 'fr', 're', 'en', 'nc', 'ce', 'ch', 'ra'}\n",
            "0\n",
            "16384\n",
            "['ha', 'an', 'nd', 'ds', 'sh', 'ha', 'ak', 'ke'] ['sh', 'ha', 'ak', 'ke', 'ha', 'an', 'nd', 'ds']\n",
            "{'ke', 'an', 'nd', 'ak', 'ds', 'ha', 'sh'}\n",
            "0\n",
            "{'an', 'ke', 'nd', 'ak', 'ds', 'ha', 'sh'}\n",
            "3\n",
            "45875\n",
            "['aa', 'aa'] ['aa', 'aa', 'aa']\n",
            "{'aa'}\n",
            "1\n",
            "{'aa'}\n",
            "4\n",
            "26214\n",
            "[] []\n",
            "set()\n",
            "0\n",
            "set()\n",
            "0\n",
            "65536\n"
          ]
        }
      ],
      "source": [
        "# 다중 집합으로 풀었을 때(collections counter를 사용하시면 편리하게 풀 수 있습니다.)\n",
        "# 통과한 코드입니다.\n",
        "import re\n",
        "\n",
        "def solution(str1, str2):\n",
        "    #예외처리 추가\n",
        "    if len(str1) <= 1 and len(str2) <= 1 :\n",
        "            return 65536\n",
        "    str1 = str1.lower()\n",
        "    str2 = str2.lower()\n",
        "\n",
        "    str1List = []\n",
        "    str2List = []\n",
        "\n",
        "    패턴 = re.compile(r'[a-z]{2}')\n",
        "\n",
        "    for i in range(len(str1)-1):\n",
        "        문자열 = str1[i]+str1[i+1]\n",
        "        if 패턴.findall(문자열):\n",
        "            str1List.append(문자열)\n",
        "\n",
        "    for i in range(len(str2)-1):\n",
        "        문자열 = str2[i]+str2[i+1]\n",
        "        if 패턴.findall(문자열):\n",
        "            str2List.append(문자열)\n",
        "\n",
        "    교집합 = set(str1List) & set(str2List)\n",
        "    합집합 = set(str1List) | set(str2List)\n",
        "\n",
        "    교집합추가수 = 0\n",
        "\n",
        "    for i in 교집합:\n",
        "        if str1List.count(i) > 1 and str2List.count(i) > 1:\n",
        "            if str1List.count(i) > str2List.count(i):\n",
        "                교집합추가수 += str2List.count(i)-1\n",
        "            else:\n",
        "                교집합추가수 += str1List.count(i)-1\n",
        "\n",
        "    합집합추가수 = 0\n",
        "\n",
        "    for i in 합집합:\n",
        "        if str1List.count(i) > 1 or str2List.count(i) > 1:\n",
        "            if str1List.count(i) > str2List.count(i):\n",
        "                합집합추가수 += str1List.count(i)-1\n",
        "            else:\n",
        "                합집합추가수 += str2List.count(i)-1\n",
        "\n",
        "    #마지막에 추가\n",
        "    if (len(합집합) + 합집합추가수) == 0:\n",
        "        return 65536\n",
        "    if (len(교집합) + 교집합추가수) == 0:\n",
        "        return 0\n",
        "\n",
        "    return int((len(교집합) + 교집합추가수) / (len(합집합) + 합집합추가수) * 65536)\n",
        "\n",
        "\n",
        "testcase = [\n",
        "    ('FRANCE', 'french'),\n",
        "    ('handshake', 'shake hands'),\n",
        "    ('aa1+aa2', 'AAAA12')\n",
        "]\n",
        "\n",
        "# 올림은 ceil, 반올림은 round\n",
        "for str1, str2 in testcase:\n",
        "    print(solution(str1, str2))"
      ]
    },
    {
      "cell_type": "markdown",
      "metadata": {
        "id": "vOkF0cD04d6m"
      },
      "source": [
        "## 8번 카카오 2018 공채 문제 6번"
      ]
    },
    {
      "cell_type": "code",
      "execution_count": null,
      "metadata": {
        "scrolled": false,
        "id": "goyPC9Vq4d6m",
        "outputId": "9da48e93-aea9-4668-98f9-39280aa2b023"
      },
      "outputs": [
        {
          "data": {
            "text/plain": [
              "[['C', 'C', 'B', 'D', 'E'],\n",
              " ['A', 'A', 'A', 'D', 'E'],\n",
              " ['A', 'A', 'A', 'B', 'F'],\n",
              " ['C', 'C', 'B', 'B', 'F']]"
            ]
          },
          "execution_count": 117,
          "metadata": {},
          "output_type": "execute_result"
        }
      ],
      "source": [
        "[list(i) for i in ['CCBDE', 'AAADE', 'AAABF', 'CCBBF']]"
      ]
    },
    {
      "cell_type": "code",
      "execution_count": null,
      "metadata": {
        "id": "OIympaEu4d6n"
      },
      "outputs": [],
      "source": [
        "[['_', '_', '_', 'D', 'E'],\n",
        " ['_', '_', '_', 'D', 'E'],\n",
        " ['C', 'C', 'B', 'B', 'F'],\n",
        " ['C', 'C', 'B', 'B', 'F']]"
      ]
    },
    {
      "cell_type": "code",
      "execution_count": null,
      "metadata": {
        "id": "LGAtpjjA4d6n"
      },
      "outputs": [],
      "source": [
        "[['_', '_', '_', '_', 'E'],\n",
        " ['_', '_', '_', '_', 'E'],\n",
        " ['_', '_', '_', 'D', 'F'],\n",
        " ['_', '_', '_', 'D', 'F']]"
      ]
    },
    {
      "cell_type": "code",
      "execution_count": null,
      "metadata": {
        "scrolled": true,
        "id": "q-jN-N8p4d6n",
        "outputId": "77e149b5-8f00-4204-d1d0-f64cd7e53aa6"
      },
      "outputs": [
        {
          "name": "stdout",
          "output_type": "stream",
          "text": [
            "[[1, 0], [1, 1]]\n",
            "[['_' '_' '_' 'D' 'E']\n",
            " ['_' '_' '_' 'D' 'E']\n",
            " ['C' 'C' 'B' 'B' 'F']\n",
            " ['C' 'C' 'B' 'B' 'F']]\n",
            "[[2, 0], [2, 2]]\n",
            "[['_' '_' '_' '_' 'E']\n",
            " ['_' '_' '_' '_' 'E']\n",
            " ['_' '_' '_' 'D' 'F']\n",
            " ['_' '_' '_' 'D' 'F']]\n"
          ]
        },
        {
          "data": {
            "text/plain": [
              "14"
            ]
          },
          "execution_count": 213,
          "metadata": {},
          "output_type": "execute_result"
        }
      ],
      "source": [
        "import numpy as np\n",
        "\n",
        "행 = 4\n",
        "열 = 5\n",
        "\n",
        "s = [list(i) for i in ['CCBDE', 'AAADE', 'AAABF', 'CCBBF']]\n",
        "s = np.array(s)\n",
        "\n",
        "캐릭터 = ['R', 'M', 'A', 'F', 'N', 'T', 'J', 'C', 'B']\n",
        "\n",
        "#라이언(R), 무지(M), 어피치(A), 프로도(F), 네오(N), 튜브(T), 제이지(J), 콘(C)\n",
        "\n",
        "\n",
        "while True:\n",
        "\n",
        "    지울값 = []\n",
        "\n",
        "    for i in range(행-1):\n",
        "        for j in range(열-1):\n",
        "            for k in 캐릭터:\n",
        "                if np.all(s[i:i+2, j:j+2] == k) == True:\n",
        "                    지울값.append([i, j])\n",
        "    if not 지울값:\n",
        "        break\n",
        "\n",
        "    for i, j in 지울값:\n",
        "        s[i:i+2, j:j+2] = '_'\n",
        "\n",
        "    print(지울값)\n",
        "    for _ in range(2):\n",
        "        for j in range(열):\n",
        "            for i in range(1, 행):\n",
        "                if s[i, j] == '_':\n",
        "                    s[i, j], s[i-1, j] = s[i-1, j], '_'\n",
        "\n",
        "    print(s)\n",
        "\n",
        "(s == '_').sum()"
      ]
    },
    {
      "cell_type": "code",
      "execution_count": null,
      "metadata": {
        "id": "Bcl1nFMs4d6o"
      },
      "outputs": [],
      "source": [
        "['TTTANT', 'RRFACC', 'RRRFCC', 'TRRRAA', 'TTMMMF', 'TMMTTJ']"
      ]
    },
    {
      "cell_type": "code",
      "execution_count": null,
      "metadata": {
        "scrolled": true,
        "id": "g7-tbzmU4d6o",
        "outputId": "af1f8d2a-9698-4c07-9458-81f40bbad2c3"
      },
      "outputs": [
        {
          "name": "stdout",
          "output_type": "stream",
          "text": [
            "[[1, 0], [1, 1]]\n",
            "[['_' '_' '_' 'D' 'E']\n",
            " ['_' '_' '_' 'D' 'E']\n",
            " ['C' 'C' 'B' 'B' 'F']\n",
            " ['C' 'C' 'B' 'B' 'F']]\n",
            "[[2, 0], [2, 2]]\n",
            "[['_' '_' '_' '_' 'E']\n",
            " ['_' '_' '_' '_' 'E']\n",
            " ['_' '_' '_' 'D' 'F']\n",
            " ['_' '_' '_' 'D' 'F']]\n"
          ]
        },
        {
          "data": {
            "text/plain": [
              "14"
            ]
          },
          "execution_count": 315,
          "metadata": {},
          "output_type": "execute_result"
        }
      ],
      "source": [
        "import numpy as np\n",
        "\n",
        "행 = 4\n",
        "열 = 5\n",
        "\n",
        "s = [list(i) for i in [\"CCBDE\", \"AAADE\", \"AAABF\", \"CCBBF\"]]\n",
        "s = np.array(s)\n",
        "\n",
        "캐릭터 = ['R', 'M', 'A', 'F', 'N', 'T', 'J', 'C', 'B']\n",
        "\n",
        "#라이언(R), 무지(M), 어피치(A), 프로도(F), 네오(N), 튜브(T), 제이지(J), 콘(C)\n",
        "\n",
        "\n",
        "while True:\n",
        "\n",
        "    지울값 = []\n",
        "\n",
        "    for i in range(행-1):\n",
        "        for j in range(열-1):\n",
        "            for k in 캐릭터:\n",
        "                if np.all(s[i:i+2, j:j+2] == k) == True:\n",
        "                    지울값.append([i, j])\n",
        "    if not 지울값:\n",
        "        break\n",
        "\n",
        "    for i, j in 지울값:\n",
        "        s[i:i+2, j:j+2] = '_'\n",
        "\n",
        "    print(지울값)\n",
        "    for _ in range(2):\n",
        "        for j in range(열):\n",
        "            for i in range(1, 행):\n",
        "                if s[i, j] == '_':\n",
        "                    s[i, j], s[i-1, j] = s[i-1, j], '_'\n",
        "\n",
        "    print(s)\n",
        "\n",
        "(s == '_').sum()"
      ]
    },
    {
      "cell_type": "code",
      "execution_count": null,
      "metadata": {
        "scrolled": true,
        "id": "TAKae8pz4d6p",
        "outputId": "a14ee7a7-3c4c-4142-f351-c73657fdf627"
      },
      "outputs": [
        {
          "data": {
            "text/plain": [
              "['A',\n",
              " 'B',\n",
              " 'C',\n",
              " 'D',\n",
              " 'E',\n",
              " 'F',\n",
              " 'G',\n",
              " 'H',\n",
              " 'I',\n",
              " 'J',\n",
              " 'K',\n",
              " 'L',\n",
              " 'M',\n",
              " 'N',\n",
              " 'O',\n",
              " 'P',\n",
              " 'Q',\n",
              " 'R',\n",
              " 'S',\n",
              " 'T',\n",
              " 'U',\n",
              " 'V',\n",
              " 'W',\n",
              " 'X',\n",
              " 'Y',\n",
              " 'Z']"
            ]
          },
          "execution_count": 332,
          "metadata": {},
          "output_type": "execute_result"
        }
      ],
      "source": [
        "# 오류1\n",
        "캐릭터 = [chr(i) for i in range(65, 91)]\n",
        "캐릭터"
      ]
    },
    {
      "cell_type": "code",
      "execution_count": null,
      "metadata": {
        "id": "nvKo1bpx4d6p",
        "outputId": "d7f9d97f-e76c-412f-f8bd-7e83e8015692"
      },
      "outputs": [
        {
          "name": "stdout",
          "output_type": "stream",
          "text": [
            "4\n"
          ]
        }
      ],
      "source": [
        "#애러가 나는 상황\n",
        "\n",
        "import numpy as np\n",
        "\n",
        "def solution(행, 열, board):\n",
        "    s = [list(i) for i in board]\n",
        "    s = np.array(s)\n",
        "\n",
        "    캐릭터 = [chr(i) for i in range(65, 91)]\n",
        "\n",
        "    s[1:3, 1:3] = '_'\n",
        "\n",
        "    return (s == '_').sum()\n",
        "\n",
        "print(solution(4, 5, [\"CCBDE\", \"AAADE\", \"AAABF\", \"CCBBF\"]))"
      ]
    },
    {
      "cell_type": "code",
      "execution_count": null,
      "metadata": {
        "id": "ZsQwIX3x4d6p",
        "outputId": "6c37aaa1-57e4-47e4-f618-322cb6750162"
      },
      "outputs": [
        {
          "name": "stdout",
          "output_type": "stream",
          "text": [
            "[[1, 0], [1, 1]]\n",
            "[['_' '_' '_' 'D' 'E']\n",
            " ['_' '_' '_' 'D' 'E']\n",
            " ['C' 'C' 'B' 'B' 'F']\n",
            " ['C' 'C' 'B' 'B' 'F']]\n",
            "[[2, 0], [2, 2]]\n",
            "[['_' '_' '_' '_' 'E']\n",
            " ['_' '_' '_' '_' 'E']\n",
            " ['_' '_' '_' 'D' 'F']\n",
            " ['_' '_' '_' 'D' 'F']]\n",
            "14\n",
            "[[1, 0], [1, 4], [2, 1]]\n",
            "[['_' '_' '_' 'A' '_' '_']\n",
            " ['_' '_' '_' 'A' '_' '_']\n",
            " ['T' '_' 'T' 'F' 'N' 'T']\n",
            " ['T' 'T' 'F' 'R' 'A' 'A']\n",
            " ['T' 'T' 'M' 'M' 'M' 'F']\n",
            " ['T' 'M' 'M' 'T' 'T' 'J']]\n",
            "[[3, 0]]\n",
            "[['_' '_' '_' 'A' '_' '_']\n",
            " ['_' '_' '_' 'A' '_' '_']\n",
            " ['_' '_' 'T' 'F' 'N' 'T']\n",
            " ['_' '_' 'F' 'R' 'A' 'A']\n",
            " ['T' '_' 'M' 'M' 'M' 'F']\n",
            " ['T' 'M' 'M' 'T' 'T' 'J']]\n",
            "15\n"
          ]
        }
      ],
      "source": [
        "#프로그래머스에서는 오류가 납니다.\n",
        "\n",
        "import numpy as np\n",
        "\n",
        "def solution(행, 열, board):\n",
        "    s = [list(i) for i in board]\n",
        "    s = np.array(s)\n",
        "\n",
        "    캐릭터 = [chr(i) for i in range(65, 91)]\n",
        "\n",
        "    #라이언(R), 무지(M), 어피치(A), 프로도(F), 네오(N), 튜브(T), 제이지(J), 콘(C)\n",
        "\n",
        "\n",
        "    while True:\n",
        "\n",
        "        지울값 = []\n",
        "\n",
        "        for i in range(행-1):\n",
        "            for j in range(열-1):\n",
        "                for k in 캐릭터:\n",
        "                    if np.all(s[i:i+2, j:j+2] == k) == True:\n",
        "                        지울값.append([i, j])\n",
        "        if not 지울값:\n",
        "            break\n",
        "\n",
        "        for i, j in 지울값:\n",
        "            s[i:i+2, j:j+2] = '_'\n",
        "\n",
        "        print(지울값)\n",
        "        for _ in range(행):\n",
        "            for j in range(열):\n",
        "                for i in range(1, 행):\n",
        "                    if s[i, j] == '_':\n",
        "                        s[i, j], s[i-1, j] = s[i-1, j], '_'\n",
        "\n",
        "        print(s)\n",
        "\n",
        "    return (s == '_').sum()\n",
        "\n",
        "print(solution(4, 5, [\"CCBDE\", \"AAADE\", \"AAABF\", \"CCBBF\"]))\n",
        "print(solution(6, 6, [\"TTTANT\", \"RRFACC\", \"RRRFCC\", \"TRRRAA\", \"TTMMMF\", \"TMMTTJ\"]))"
      ]
    },
    {
      "cell_type": "markdown",
      "metadata": {
        "id": "9qUEaO614d6q"
      },
      "source": [
        "## 9번 카카오 2019 공채 문제 1번"
      ]
    },
    {
      "cell_type": "code",
      "execution_count": null,
      "metadata": {
        "id": "xFy7JKW04d6q",
        "outputId": "88d4df30-4434-43e1-c51b-2140b2eec7cb"
      },
      "outputs": [
        {
          "name": "stdout",
          "output_type": "stream",
          "text": [
            "['Prodo님이 들어왔습니다.', 'Ryan님이 들어왔습니다.', 'Prodo님이 나갔습니다.', 'Prodo님이 들어왔습니다.']\n"
          ]
        }
      ],
      "source": [
        "def solution(record):\n",
        "    answer = []\n",
        "    user = {}\n",
        "\n",
        "    for log in record:\n",
        "        logSplit = log.split(' ')\n",
        "        if logSplit[0] == 'Enter':\n",
        "            user[logSplit[1]] = logSplit[2]\n",
        "            answer.append([logSplit[1], '님이 들어왔습니다.'])\n",
        "        elif logSplit[0] == 'Leave':\n",
        "            answer.append([logSplit[1], '님이 나갔습니다.'])\n",
        "        elif logSplit[0] == 'Change':\n",
        "            user[logSplit[1]] = logSplit[2]\n",
        "\n",
        "    answer = [user[i[0]] + i[1] for i in answer]\n",
        "\n",
        "\n",
        "    return answer\n",
        "\n",
        "\n",
        "testcase = ['Enter uid1234 Muzi',\n",
        "            'Enter uid4567 Prodo',\n",
        "            'Leave uid1234',\n",
        "            'Enter uid1234 Prodo',\n",
        "            'Change uid4567 Ryan']\n",
        "\n",
        "print(solution(testcase))"
      ]
    },
    {
      "cell_type": "markdown",
      "metadata": {
        "id": "YYfYdTFf4d6q"
      },
      "source": [
        "## 10번 카카오 2019 공채 문제 2번"
      ]
    },
    {
      "cell_type": "code",
      "execution_count": null,
      "metadata": {
        "scrolled": true,
        "id": "-I_x7pGQ4d6r",
        "outputId": "9a205cc8-211e-4980-a50d-4cc017157dd1"
      },
      "outputs": [
        {
          "name": "stdout",
          "output_type": "stream",
          "text": [
            "[3, 4, 2, 1, 5]\n"
          ]
        }
      ],
      "source": [
        "from collections import Counter\n",
        "\n",
        "def solution(스테이지수, 스테이지):\n",
        "    전체인원 = len(스테이지)\n",
        "    스테이지에_머물고_있는_사람 = Counter(스테이지)\n",
        "\n",
        "    answer = {}\n",
        "    for i in range(1, 스테이지수+1):\n",
        "        answer[i] = 0\n",
        "\n",
        "    for i in answer:\n",
        "        if 스테이지에_머물고_있는_사람[i] != 0 and 전체인원 != 0:\n",
        "            answer[i] = 스테이지에_머물고_있는_사람[i]/전체인원\n",
        "        else:\n",
        "            answer[i] = 0\n",
        "        전체인원 -= 스테이지에_머물고_있는_사람[i]\n",
        "\n",
        "    return sorted(answer, key=lambda x:answer[x], reverse=True)\n",
        "\n",
        "\n",
        "n, stages = 5, [2, 1, 2, 6, 2, 4, 3, 3]\n",
        "print(solution(n, stages))"
      ]
    },
    {
      "cell_type": "code",
      "execution_count": null,
      "metadata": {
        "id": "ERFvJ-1z4d6r",
        "outputId": "0a9d8ee3-cf9b-401f-ee2f-82d82b2fae99"
      },
      "outputs": [
        {
          "data": {
            "text/plain": [
              "[[0, 1, 2], [3, 3, 3], [4, 1, 6]]"
            ]
          },
          "execution_count": 227,
          "metadata": {},
          "output_type": "execute_result"
        }
      ],
      "source": [
        "l = sorted(([0, 1, 2], [4, 1, 6], [3, 3, 3]), key=lambda x:x[0])\n",
        "l"
      ]
    },
    {
      "cell_type": "code",
      "execution_count": null,
      "metadata": {
        "id": "cCKoEnoo4d6r",
        "outputId": "e4e51306-f6f5-4d85-dc98-199066a3a49a"
      },
      "outputs": [
        {
          "data": {
            "text/plain": [
              "[[0, 1, 2], [4, 1, 6], [3, 3, 3]]"
            ]
          },
          "execution_count": 228,
          "metadata": {},
          "output_type": "execute_result"
        }
      ],
      "source": [
        "l = sorted(([0, 1, 2], [4, 1, 6], [3, 3, 3]), key=lambda x:x[1])\n",
        "l"
      ]
    },
    {
      "cell_type": "code",
      "execution_count": null,
      "metadata": {
        "id": "4Hu5sFZG4d6r",
        "outputId": "b42a4562-d1d3-4601-b11d-4bc3c92a2fc1"
      },
      "outputs": [
        {
          "data": {
            "text/plain": [
              "[[0, 1, 2], [3, 3, 3], [4, 1, 6]]"
            ]
          },
          "execution_count": 229,
          "metadata": {},
          "output_type": "execute_result"
        }
      ],
      "source": [
        "l = sorted(([0, 1, 2], [4, 1, 6], [3, 3, 3]), key=lambda x:x[2])\n",
        "l"
      ]
    },
    {
      "cell_type": "code",
      "execution_count": null,
      "metadata": {
        "id": "RNHxcAPw4d6s",
        "outputId": "ecbf5ff2-5b3f-4cf8-dff8-1a9accbd4bb5"
      },
      "outputs": [
        {
          "name": "stdout",
          "output_type": "stream",
          "text": [
            "{1: 0, 2: 0, 3: 0, 4: 0, 5: 0}\n",
            "[3, 4, 2, 1, 5]\n"
          ]
        }
      ],
      "source": [
        "from collections import Counter\n",
        "\n",
        "def solution(스테이지수, 스테이지):\n",
        "    전체인원 = len(스테이지)\n",
        "    스테이지에_머물고_있는_사람 = Counter(스테이지)\n",
        "\n",
        "    answer = {}\n",
        "    for i in range(1, 스테이지수+1):\n",
        "        answer[i] = 0\n",
        "\n",
        "    print(answer)\n",
        "\n",
        "    for i in answer:\n",
        "        if 스테이지에_머물고_있는_사람[i] != 0 and 전체인원 != 0:\n",
        "            answer[i] = 스테이지에_머물고_있는_사람[i]/전체인원\n",
        "        else:\n",
        "            answer[i] = 0\n",
        "        전체인원 -= 스테이지에_머물고_있는_사람[i]\n",
        "\n",
        "    return sorted(answer, key=lambda x:answer[x], reverse=True)\n",
        "\n",
        "\n",
        "n, stages = 5, [2, 1, 2, 6, 2, 4, 3, 3]\n",
        "print(solution(n, stages))"
      ]
    },
    {
      "cell_type": "markdown",
      "metadata": {
        "id": "RWhk29ni4d6s"
      },
      "source": [
        "## 11번 카카오 2019 공채 문제 3번"
      ]
    },
    {
      "cell_type": "code",
      "execution_count": null,
      "metadata": {
        "id": "_J5tdCeY4d6s",
        "outputId": "50c84553-9541-4026-d7ce-0c997ef67470"
      },
      "outputs": [
        {
          "data": {
            "text/plain": [
              "[('a', 'b', 'c'),\n",
              " ('a', 'b', 'd'),\n",
              " ('a', 'b', 'e'),\n",
              " ('a', 'c', 'd'),\n",
              " ('a', 'c', 'e'),\n",
              " ('a', 'd', 'e'),\n",
              " ('b', 'c', 'd'),\n",
              " ('b', 'c', 'e'),\n",
              " ('b', 'd', 'e'),\n",
              " ('c', 'd', 'e')]"
            ]
          },
          "execution_count": 234,
          "metadata": {},
          "output_type": "execute_result"
        }
      ],
      "source": [
        "from itertools import combinations\n",
        "\n",
        "list(combinations('abcde', 1))\n",
        "list(combinations('abcde', 2))\n",
        "list(combinations('abcde', 3))"
      ]
    },
    {
      "cell_type": "code",
      "execution_count": null,
      "metadata": {
        "id": "lmQQcWFd4d6t"
      },
      "outputs": [],
      "source": [
        "l = [['100','ryan','music','2'],['200','apeach','math','2'],['300','tube','computer','3'],['400','con','computer','4'],['500','muzi','music','3'],['600','apeach','music','2']]"
      ]
    },
    {
      "cell_type": "code",
      "execution_count": null,
      "metadata": {
        "id": "lqbxepFv4d6t",
        "outputId": "2de24a9d-91cf-4b12-ed12-5790401f051b"
      },
      "outputs": [
        {
          "data": {
            "text/html": [
              "<div>\n",
              "<style scoped>\n",
              "    .dataframe tbody tr th:only-of-type {\n",
              "        vertical-align: middle;\n",
              "    }\n",
              "\n",
              "    .dataframe tbody tr th {\n",
              "        vertical-align: top;\n",
              "    }\n",
              "\n",
              "    .dataframe thead th {\n",
              "        text-align: right;\n",
              "    }\n",
              "</style>\n",
              "<table border=\"1\" class=\"dataframe\">\n",
              "  <thead>\n",
              "    <tr style=\"text-align: right;\">\n",
              "      <th></th>\n",
              "      <th>0</th>\n",
              "      <th>1</th>\n",
              "      <th>2</th>\n",
              "      <th>3</th>\n",
              "    </tr>\n",
              "  </thead>\n",
              "  <tbody>\n",
              "    <tr>\n",
              "      <th>0</th>\n",
              "      <td>100</td>\n",
              "      <td>ryan</td>\n",
              "      <td>music</td>\n",
              "      <td>2</td>\n",
              "    </tr>\n",
              "    <tr>\n",
              "      <th>1</th>\n",
              "      <td>200</td>\n",
              "      <td>apeach</td>\n",
              "      <td>math</td>\n",
              "      <td>2</td>\n",
              "    </tr>\n",
              "    <tr>\n",
              "      <th>2</th>\n",
              "      <td>300</td>\n",
              "      <td>tube</td>\n",
              "      <td>computer</td>\n",
              "      <td>3</td>\n",
              "    </tr>\n",
              "    <tr>\n",
              "      <th>3</th>\n",
              "      <td>400</td>\n",
              "      <td>con</td>\n",
              "      <td>computer</td>\n",
              "      <td>4</td>\n",
              "    </tr>\n",
              "    <tr>\n",
              "      <th>4</th>\n",
              "      <td>500</td>\n",
              "      <td>muzi</td>\n",
              "      <td>music</td>\n",
              "      <td>3</td>\n",
              "    </tr>\n",
              "    <tr>\n",
              "      <th>5</th>\n",
              "      <td>600</td>\n",
              "      <td>apeach</td>\n",
              "      <td>music</td>\n",
              "      <td>2</td>\n",
              "    </tr>\n",
              "  </tbody>\n",
              "</table>\n",
              "</div>"
            ],
            "text/plain": [
              "     0       1         2  3\n",
              "0  100    ryan     music  2\n",
              "1  200  apeach      math  2\n",
              "2  300    tube  computer  3\n",
              "3  400     con  computer  4\n",
              "4  500    muzi     music  3\n",
              "5  600  apeach     music  2"
            ]
          },
          "execution_count": 236,
          "metadata": {},
          "output_type": "execute_result"
        }
      ],
      "source": [
        "import pandas as pd\n",
        "\n",
        "data = pd.DataFrame(l)\n",
        "data"
      ]
    },
    {
      "cell_type": "code",
      "execution_count": null,
      "metadata": {
        "scrolled": true,
        "id": "umeIgwF54d6t",
        "outputId": "72e17b7d-4679-44c4-b17b-97a791ff11fb"
      },
      "outputs": [
        {
          "data": {
            "text/plain": [
              "False"
            ]
          },
          "execution_count": 241,
          "metadata": {},
          "output_type": "execute_result"
        }
      ],
      "source": [
        "data[1].value_counts()\n",
        "len(data[1]) == len(data[1].value_counts())"
      ]
    },
    {
      "cell_type": "code",
      "execution_count": null,
      "metadata": {
        "id": "PkElKrI24d6t",
        "outputId": "2849172d-7b0f-4433-dbda-2a1bea13f639"
      },
      "outputs": [
        {
          "data": {
            "text/html": [
              "<div>\n",
              "<style scoped>\n",
              "    .dataframe tbody tr th:only-of-type {\n",
              "        vertical-align: middle;\n",
              "    }\n",
              "\n",
              "    .dataframe tbody tr th {\n",
              "        vertical-align: top;\n",
              "    }\n",
              "\n",
              "    .dataframe thead th {\n",
              "        text-align: right;\n",
              "    }\n",
              "</style>\n",
              "<table border=\"1\" class=\"dataframe\">\n",
              "  <thead>\n",
              "    <tr style=\"text-align: right;\">\n",
              "      <th></th>\n",
              "      <th>data[0]</th>\n",
              "      <th>data[1]</th>\n",
              "      <th>data[2]</th>\n",
              "      <th>data[3]</th>\n",
              "      <th>data[0] + data[1]</th>\n",
              "      <th>data[0] + data[2]</th>\n",
              "      <th>data[0] + data[3]</th>\n",
              "      <th>data[1] + data[2]</th>\n",
              "      <th>data[1] + data[3]</th>\n",
              "      <th>data[2] + data[3]</th>\n",
              "      <th>data[0] + data[1] + data[2]</th>\n",
              "      <th>data[0] + data[1] + data[3]</th>\n",
              "      <th>data[0] + data[2] + data[3]</th>\n",
              "      <th>data[1] + data[2] + data[3]</th>\n",
              "      <th>data[0] + data[1] + data[2] + data[3]</th>\n",
              "    </tr>\n",
              "  </thead>\n",
              "  <tbody>\n",
              "    <tr>\n",
              "      <th>0</th>\n",
              "      <td>100</td>\n",
              "      <td>ryan</td>\n",
              "      <td>music</td>\n",
              "      <td>2</td>\n",
              "      <td>100ryan</td>\n",
              "      <td>100music</td>\n",
              "      <td>1002</td>\n",
              "      <td>ryanmusic</td>\n",
              "      <td>ryan2</td>\n",
              "      <td>music2</td>\n",
              "      <td>100ryanmusic</td>\n",
              "      <td>100ryan2</td>\n",
              "      <td>100music2</td>\n",
              "      <td>ryanmusic2</td>\n",
              "      <td>100ryanmusic2</td>\n",
              "    </tr>\n",
              "    <tr>\n",
              "      <th>1</th>\n",
              "      <td>200</td>\n",
              "      <td>apeach</td>\n",
              "      <td>math</td>\n",
              "      <td>2</td>\n",
              "      <td>200apeach</td>\n",
              "      <td>200math</td>\n",
              "      <td>2002</td>\n",
              "      <td>apeachmath</td>\n",
              "      <td>apeach2</td>\n",
              "      <td>math2</td>\n",
              "      <td>200apeachmath</td>\n",
              "      <td>200apeach2</td>\n",
              "      <td>200math2</td>\n",
              "      <td>apeachmath2</td>\n",
              "      <td>200apeachmath2</td>\n",
              "    </tr>\n",
              "    <tr>\n",
              "      <th>2</th>\n",
              "      <td>300</td>\n",
              "      <td>tube</td>\n",
              "      <td>computer</td>\n",
              "      <td>3</td>\n",
              "      <td>300tube</td>\n",
              "      <td>300computer</td>\n",
              "      <td>3003</td>\n",
              "      <td>tubecomputer</td>\n",
              "      <td>tube3</td>\n",
              "      <td>computer3</td>\n",
              "      <td>300tubecomputer</td>\n",
              "      <td>300tube3</td>\n",
              "      <td>300computer3</td>\n",
              "      <td>tubecomputer3</td>\n",
              "      <td>300tubecomputer3</td>\n",
              "    </tr>\n",
              "    <tr>\n",
              "      <th>3</th>\n",
              "      <td>400</td>\n",
              "      <td>con</td>\n",
              "      <td>computer</td>\n",
              "      <td>4</td>\n",
              "      <td>400con</td>\n",
              "      <td>400computer</td>\n",
              "      <td>4004</td>\n",
              "      <td>concomputer</td>\n",
              "      <td>con4</td>\n",
              "      <td>computer4</td>\n",
              "      <td>400concomputer</td>\n",
              "      <td>400con4</td>\n",
              "      <td>400computer4</td>\n",
              "      <td>concomputer4</td>\n",
              "      <td>400concomputer4</td>\n",
              "    </tr>\n",
              "    <tr>\n",
              "      <th>4</th>\n",
              "      <td>500</td>\n",
              "      <td>muzi</td>\n",
              "      <td>music</td>\n",
              "      <td>3</td>\n",
              "      <td>500muzi</td>\n",
              "      <td>500music</td>\n",
              "      <td>5003</td>\n",
              "      <td>muzimusic</td>\n",
              "      <td>muzi3</td>\n",
              "      <td>music3</td>\n",
              "      <td>500muzimusic</td>\n",
              "      <td>500muzi3</td>\n",
              "      <td>500music3</td>\n",
              "      <td>muzimusic3</td>\n",
              "      <td>500muzimusic3</td>\n",
              "    </tr>\n",
              "    <tr>\n",
              "      <th>5</th>\n",
              "      <td>600</td>\n",
              "      <td>apeach</td>\n",
              "      <td>music</td>\n",
              "      <td>2</td>\n",
              "      <td>600apeach</td>\n",
              "      <td>600music</td>\n",
              "      <td>6002</td>\n",
              "      <td>apeachmusic</td>\n",
              "      <td>apeach2</td>\n",
              "      <td>music2</td>\n",
              "      <td>600apeachmusic</td>\n",
              "      <td>600apeach2</td>\n",
              "      <td>600music2</td>\n",
              "      <td>apeachmusic2</td>\n",
              "      <td>600apeachmusic2</td>\n",
              "    </tr>\n",
              "  </tbody>\n",
              "</table>\n",
              "</div>"
            ],
            "text/plain": [
              "  data[0] data[1]   data[2] data[3] data[0] + data[1] data[0] + data[2]  \\\n",
              "0     100    ryan     music       2           100ryan          100music   \n",
              "1     200  apeach      math       2         200apeach           200math   \n",
              "2     300    tube  computer       3           300tube       300computer   \n",
              "3     400     con  computer       4            400con       400computer   \n",
              "4     500    muzi     music       3           500muzi          500music   \n",
              "5     600  apeach     music       2         600apeach          600music   \n",
              "\n",
              "  data[0] + data[3] data[1] + data[2] data[1] + data[3] data[2] + data[3]  \\\n",
              "0              1002         ryanmusic             ryan2            music2   \n",
              "1              2002        apeachmath           apeach2             math2   \n",
              "2              3003      tubecomputer             tube3         computer3   \n",
              "3              4004       concomputer              con4         computer4   \n",
              "4              5003         muzimusic             muzi3            music3   \n",
              "5              6002       apeachmusic           apeach2            music2   \n",
              "\n",
              "  data[0] + data[1] + data[2] data[0] + data[1] + data[3]  \\\n",
              "0                100ryanmusic                    100ryan2   \n",
              "1               200apeachmath                  200apeach2   \n",
              "2             300tubecomputer                    300tube3   \n",
              "3              400concomputer                     400con4   \n",
              "4                500muzimusic                    500muzi3   \n",
              "5              600apeachmusic                  600apeach2   \n",
              "\n",
              "  data[0] + data[2] + data[3] data[1] + data[2] + data[3]  \\\n",
              "0                   100music2                  ryanmusic2   \n",
              "1                    200math2                 apeachmath2   \n",
              "2                300computer3               tubecomputer3   \n",
              "3                400computer4                concomputer4   \n",
              "4                   500music3                  muzimusic3   \n",
              "5                   600music2                apeachmusic2   \n",
              "\n",
              "  data[0] + data[1] + data[2] + data[3]  \n",
              "0                         100ryanmusic2  \n",
              "1                        200apeachmath2  \n",
              "2                      300tubecomputer3  \n",
              "3                       400concomputer4  \n",
              "4                         500muzimusic3  \n",
              "5                       600apeachmusic2  "
            ]
          },
          "execution_count": 257,
          "metadata": {},
          "output_type": "execute_result"
        }
      ],
      "source": [
        "import pandas as pd\n",
        "\n",
        "l = [['100','ryan','music','2'],\n",
        "     ['200','apeach','math','2'],\n",
        "     ['300','tube','computer','3'],\n",
        "     ['400','con','computer','4'],\n",
        "     ['500','muzi','music','3'],\n",
        "     ['600','apeach','music','2']]\n",
        "\n",
        "colname = range(len(l[0]))\n",
        "\n",
        "data = pd.DataFrame(l)\n",
        "data_ = pd.DataFrame()\n",
        "\n",
        "유일성만족리스트 = []\n",
        "모든이름의조합 = []\n",
        "\n",
        "for 조합수 in range(1, len(colname)+1):\n",
        "    컬럼이름의조합 = combinations(colname, 조합수)\n",
        "    모든이름의조합.append(list(컬럼이름의조합))\n",
        "\n",
        "for 이름조합 in 모든이름의조합:\n",
        "    for 컬럼명 in 이름조합:\n",
        "        #print(컬럼명)\n",
        "        if len(컬럼명) == 1:\n",
        "            data_[f'data[{컬럼명[0]}]'] = data[컬럼명[0]]\n",
        "        elif len(컬럼명) == 2:\n",
        "            data_[f'data[{컬럼명[0]}] + data[{컬럼명[1]}]'] = data[컬럼명[0]] + data[컬럼명[1]]\n",
        "        elif len(컬럼명) == 3:\n",
        "            data_[f'data[{컬럼명[0]}] + data[{컬럼명[1]}] + data[{컬럼명[2]}]'] = data[컬럼명[0]] + data[컬럼명[1]] + data[컬럼명[2]]\n",
        "        elif len(컬럼명) == 4:\n",
        "            data_[f'data[{컬럼명[0]}] + data[{컬럼명[1]}] + data[{컬럼명[2]}] + data[{컬럼명[3]}]'] = data[컬럼명[0]] + data[컬럼명[1]] + data[컬럼명[2]] + data[컬럼명[3]]\n",
        "\n",
        "data_"
      ]
    },
    {
      "cell_type": "code",
      "execution_count": null,
      "metadata": {
        "id": "ZcOBfW7O4d6u",
        "outputId": "c6940cce-d22a-4706-ce6f-7774de792387"
      },
      "outputs": [
        {
          "data": {
            "text/plain": [
              "Index(['data[0]', 'data[1]', 'data[2]', 'data[3]', 'data[0] + data[1]',\n",
              "       'data[0] + data[2]', 'data[0] + data[3]', 'data[1] + data[2]',\n",
              "       'data[1] + data[3]', 'data[2] + data[3]', 'data[0] + data[1] + data[2]',\n",
              "       'data[0] + data[1] + data[3]', 'data[0] + data[2] + data[3]',\n",
              "       'data[1] + data[2] + data[3]', 'data[0] + data[1] + data[2] + data[3]'],\n",
              "      dtype='object')"
            ]
          },
          "execution_count": 258,
          "metadata": {},
          "output_type": "execute_result"
        }
      ],
      "source": [
        "data_.columns"
      ]
    },
    {
      "cell_type": "code",
      "execution_count": null,
      "metadata": {
        "scrolled": true,
        "id": "rFGh3FMD4d6u",
        "outputId": "8e9fc3cd-bf29-4ab9-8137-bbb544ffbd88"
      },
      "outputs": [
        {
          "data": {
            "text/plain": [
              "['data[0]',\n",
              " 'data[0] + data[1]',\n",
              " 'data[0] + data[2]',\n",
              " 'data[0] + data[3]',\n",
              " 'data[1] + data[2]',\n",
              " 'data[0] + data[1] + data[2]',\n",
              " 'data[0] + data[1] + data[3]',\n",
              " 'data[0] + data[2] + data[3]',\n",
              " 'data[1] + data[2] + data[3]',\n",
              " 'data[0] + data[1] + data[2] + data[3]']"
            ]
          },
          "execution_count": 263,
          "metadata": {},
          "output_type": "execute_result"
        }
      ],
      "source": [
        "인덱스 = data_.columns\n",
        "유일성만족리스트 = []\n",
        "\n",
        "for i in 인덱스:\n",
        "    if len(data_[i]) == len(data_[i].value_counts()):\n",
        "        유일성만족리스트.append(i)\n",
        "\n",
        "유일성만족리스트"
      ]
    },
    {
      "cell_type": "code",
      "execution_count": null,
      "metadata": {
        "id": "jNIDRkie4d6v",
        "outputId": "dcb86297-ceb0-4ce9-dddb-6e1632c366ee"
      },
      "outputs": [
        {
          "name": "stdout",
          "output_type": "stream",
          "text": [
            "True\n"
          ]
        }
      ],
      "source": [
        "print('hello' in 'hello world')"
      ]
    },
    {
      "cell_type": "code",
      "execution_count": null,
      "metadata": {
        "id": "TT4DMJOw4d6v",
        "outputId": "cfdd3b05-635e-45f3-b1a1-ffc0d8cdbc0f"
      },
      "outputs": [
        {
          "data": {
            "text/plain": [
              "['data[0]', '!', '!', '!', 'data[1] + data[2]', '!', '!', '!', '!', '!']"
            ]
          },
          "execution_count": 262,
          "metadata": {},
          "output_type": "execute_result"
        }
      ],
      "source": [
        "for i in range(len(유일성만족리스트)):\n",
        "    for j in range(i+1, len(유일성만족리스트)):\n",
        "        if 유일성만족리스트[i] in 유일성만족리스트[j]:\n",
        "            유일성만족리스트[j] = '!'\n",
        "\n",
        "유일성만족리스트"
      ]
    },
    {
      "cell_type": "code",
      "execution_count": null,
      "metadata": {
        "id": "uWRX0TFQ4d6v",
        "outputId": "78e1c5c5-63f5-4b30-c680-21e9839d847e"
      },
      "outputs": [
        {
          "name": "stdout",
          "output_type": "stream",
          "text": [
            "0 1\n",
            "data[0] data[0] + data[1]\n",
            "0 2\n",
            "data[0] data[0] + data[2]\n",
            "0 3\n",
            "data[0] data[0] + data[3]\n",
            "0 4\n",
            "data[0] data[1] + data[2]\n",
            "0 5\n",
            "data[0] data[0] + data[1] + data[2]\n",
            "0 6\n",
            "data[0] data[0] + data[1] + data[3]\n",
            "0 7\n",
            "data[0] data[0] + data[2] + data[3]\n",
            "0 8\n",
            "data[0] data[1] + data[2] + data[3]\n",
            "0 9\n",
            "data[0] data[0] + data[1] + data[2] + data[3]\n",
            "1 2\n",
            "! !\n",
            "1 3\n",
            "! !\n",
            "1 4\n",
            "! data[1] + data[2]\n",
            "1 5\n",
            "! !\n",
            "1 6\n",
            "! !\n",
            "1 7\n",
            "! !\n",
            "1 8\n",
            "! data[1] + data[2] + data[3]\n",
            "1 9\n",
            "! !\n",
            "2 3\n",
            "! !\n",
            "2 4\n",
            "! data[1] + data[2]\n",
            "2 5\n",
            "! !\n",
            "2 6\n",
            "! !\n",
            "2 7\n",
            "! !\n",
            "2 8\n",
            "! data[1] + data[2] + data[3]\n",
            "2 9\n",
            "! !\n",
            "3 4\n",
            "! data[1] + data[2]\n",
            "3 5\n",
            "! !\n",
            "3 6\n",
            "! !\n",
            "3 7\n",
            "! !\n",
            "3 8\n",
            "! data[1] + data[2] + data[3]\n",
            "3 9\n",
            "! !\n",
            "4 5\n",
            "data[1] + data[2] !\n",
            "4 6\n",
            "data[1] + data[2] !\n",
            "4 7\n",
            "data[1] + data[2] !\n",
            "4 8\n",
            "data[1] + data[2] data[1] + data[2] + data[3]\n",
            "4 9\n",
            "data[1] + data[2] !\n",
            "5 6\n",
            "! !\n",
            "5 7\n",
            "! !\n",
            "5 8\n",
            "! !\n",
            "5 9\n",
            "! !\n",
            "6 7\n",
            "! !\n",
            "6 8\n",
            "! !\n",
            "6 9\n",
            "! !\n",
            "7 8\n",
            "! !\n",
            "7 9\n",
            "! !\n",
            "8 9\n",
            "! !\n"
          ]
        },
        {
          "data": {
            "text/plain": [
              "['data[0]', '!', '!', '!', 'data[1] + data[2]', '!', '!', '!', '!', '!']"
            ]
          },
          "execution_count": 264,
          "metadata": {},
          "output_type": "execute_result"
        }
      ],
      "source": [
        "for i in range(len(유일성만족리스트)):\n",
        "    for j in range(i+1, len(유일성만족리스트)):\n",
        "        print(i, j)\n",
        "        print(유일성만족리스트[i], 유일성만족리스트[j])\n",
        "        if 유일성만족리스트[i] in 유일성만족리스트[j]:\n",
        "            유일성만족리스트[j] = '!'\n",
        "\n",
        "유일성만족리스트"
      ]
    },
    {
      "cell_type": "code",
      "execution_count": null,
      "metadata": {
        "id": "b3ZINcTn4d6w",
        "outputId": "38bc8be4-73f7-4bed-bc55-0d4a2a89b63b"
      },
      "outputs": [
        {
          "data": {
            "text/plain": [
              "2"
            ]
          },
          "execution_count": 265,
          "metadata": {},
          "output_type": "execute_result"
        }
      ],
      "source": [
        "len(유일성만족리스트) - 유일성만족리스트.count('!')"
      ]
    },
    {
      "cell_type": "markdown",
      "metadata": {
        "id": "ru_7nHPk4d6w"
      },
      "source": [
        "### 19년 3번 문제 하나로 합친 코드"
      ]
    },
    {
      "cell_type": "code",
      "execution_count": null,
      "metadata": {
        "id": "daJK7n9t4d6w",
        "outputId": "643f894e-1739-4b6a-ce79-7cb484b87f40"
      },
      "outputs": [
        {
          "data": {
            "text/plain": [
              "2"
            ]
          },
          "execution_count": 266,
          "metadata": {},
          "output_type": "execute_result"
        }
      ],
      "source": [
        "import pandas as pd\n",
        "from itertools import combinations\n",
        "\n",
        "\n",
        "l = [['100','ryan','music','2'],\n",
        "     ['200','apeach','math','2'],\n",
        "     ['300','tube','computer','3'],\n",
        "     ['400','con','computer','4'],\n",
        "     ['500','muzi','music','3'],\n",
        "     ['600','apeach','music','2']]\n",
        "\n",
        "colname = range(len(l[0]))\n",
        "\n",
        "data = pd.DataFrame(l)\n",
        "data_ = pd.DataFrame()\n",
        "\n",
        "유일성만족리스트 = []\n",
        "모든이름의조합 = []\n",
        "\n",
        "for 조합수 in range(1, len(colname)+1):\n",
        "    컬럼이름의조합 = combinations(colname, 조합수)\n",
        "    모든이름의조합.append(list(컬럼이름의조합))\n",
        "\n",
        "for 이름조합 in 모든이름의조합:\n",
        "    for 컬럼명 in 이름조합:\n",
        "        #print(컬럼명)\n",
        "        if len(컬럼명) == 1:\n",
        "            data_[f'data[{컬럼명[0]}]'] = data[컬럼명[0]]\n",
        "        elif len(컬럼명) == 2:\n",
        "            data_[f'data[{컬럼명[0]}] + data[{컬럼명[1]}]'] = data[컬럼명[0]] + data[컬럼명[1]]\n",
        "        elif len(컬럼명) == 3:\n",
        "            data_[f'data[{컬럼명[0]}] + data[{컬럼명[1]}] + data[{컬럼명[2]}]'] = data[컬럼명[0]] + data[컬럼명[1]] + data[컬럼명[2]]\n",
        "        elif len(컬럼명) == 4:\n",
        "            data_[f'data[{컬럼명[0]}] + data[{컬럼명[1]}] + data[{컬럼명[2]}] + data[{컬럼명[3]}]'] = data[컬럼명[0]] + data[컬럼명[1]] + data[컬럼명[2]] + data[컬럼명[3]]\n",
        "\n",
        "인덱스 = data_.columns\n",
        "\n",
        "for i in 인덱스:\n",
        "    if len(data_[i]) == len(data_[i].value_counts()):\n",
        "        유일성만족리스트.append(i)\n",
        "\n",
        "for i in range(len(유일성만족리스트)):\n",
        "    for j in range(i+1, len(유일성만족리스트)):\n",
        "        if 유일성만족리스트[i] in 유일성만족리스트[j]:\n",
        "            유일성만족리스트[j] = '!'\n",
        "\n",
        "len(유일성만족리스트) - 유일성만족리스트.count('!')"
      ]
    },
    {
      "cell_type": "code",
      "execution_count": null,
      "metadata": {
        "id": "qC3zF_gl4d6w"
      },
      "outputs": [],
      "source": [
        "## 1번 testcase 8개 모두 진행"
      ]
    },
    {
      "cell_type": "code",
      "execution_count": null,
      "metadata": {
        "id": "acY-7SIp4d6x"
      },
      "outputs": [],
      "source": [
        "## 아래 코드로 하였을 때 18, 19, 20, 22, 25번이 문제 생김\n",
        "import pandas as pd\n",
        "from itertools import combinations\n",
        "\n",
        "def solution(l):\n",
        "\n",
        "    colname = range(len(l[0]))\n",
        "\n",
        "    data = pd.DataFrame(l)\n",
        "    data_ = pd.DataFrame()\n",
        "\n",
        "    유일성만족리스트 = []\n",
        "    모든이름의조합 = []\n",
        "\n",
        "    for 조합수 in range(1, len(colname)+1):\n",
        "        컬럼이름의조합 = combinations(colname, 조합수)\n",
        "        모든이름의조합.append(list(컬럼이름의조합))\n",
        "\n",
        "    for 이름조합 in 모든이름의조합:\n",
        "        for 컬럼명 in 이름조합:\n",
        "            #print(컬럼명)\n",
        "            if len(컬럼명) == 1:\n",
        "                data_[f'data[{컬럼명[0]}]'] = data[컬럼명[0]]\n",
        "            elif len(컬럼명) == 2:\n",
        "                data_[f'data[{컬럼명[0]}] + data[{컬럼명[1]}]'] = data[컬럼명[0]] + data[컬럼명[1]]\n",
        "            elif len(컬럼명) == 3:\n",
        "                data_[f'data[{컬럼명[0]}] + data[{컬럼명[1]}] + data[{컬럼명[2]}]'] = data[컬럼명[0]] + data[컬럼명[1]] + data[컬럼명[2]]\n",
        "            elif len(컬럼명) == 4:\n",
        "                data_[f'data[{컬럼명[0]}] + data[{컬럼명[1]}] + data[{컬럼명[2]}] + data[{컬럼명[3]}]'] = data[컬럼명[0]] + data[컬럼명[1]] + data[컬럼명[2]] + data[컬럼명[3]]\n",
        "            elif len(컬럼명) == 5:\n",
        "                data_[f'data[{컬럼명[0]}] + data[{컬럼명[1]}] + data[{컬럼명[2]}] + data[{컬럼명[3]}] + data[{컬럼명[4]}]'] = data[컬럼명[0]] + data[컬럼명[1]] + data[컬럼명[2]] + data[컬럼명[3]] + data[컬럼명[4]]\n",
        "            elif len(컬럼명) == 6:\n",
        "                data_[f'data[{컬럼명[0]}] + data[{컬럼명[1]}] + data[{컬럼명[2]}] + data[{컬럼명[3]}] + data[{컬럼명[4]}] + data[{컬럼명[5]}]'] = data[컬럼명[0]] + data[컬럼명[1]] + data[컬럼명[2]] + data[컬럼명[3]] + data[컬럼명[4]]  + data[컬럼명[5]]\n",
        "            elif len(컬럼명) == 7:\n",
        "                data_[f'data[{컬럼명[0]}] + data[{컬럼명[1]}] + data[{컬럼명[2]}] + data[{컬럼명[3]}] + data[{컬럼명[4]}] + data[{컬럼명[5]}] + data[{컬럼명[6]}]'] = data[컬럼명[0]] + data[컬럼명[1]] + data[컬럼명[2]] + data[컬럼명[3]] + data[컬럼명[4]] + data[컬럼명[5]] + data[컬럼명[6]]\n",
        "            elif len(컬럼명) == 8:\n",
        "                data_[f'data[{컬럼명[0]}] + data[{컬럼명[1]}] + data[{컬럼명[2]}] + data[{컬럼명[3]}] + data[{컬럼명[4]}] + data[{컬럼명[5]}] + data[{컬럼명[6]}] + data[{컬럼명[7]}]'] = data[컬럼명[0]] + data[컬럼명[1]] + data[컬럼명[2]] + data[컬럼명[3]] + data[컬럼명[4]] + data[컬럼명[5]] + data[컬럼명[6]] + data[컬럼명[7]]\n",
        "\n",
        "    인덱스 = data_.columns\n",
        "    print(인덱스)\n",
        "\n",
        "    for i in 인덱스:\n",
        "        if len(data_[i]) == len(data_[i].value_counts()):\n",
        "            유일성만족리스트.append(i)\n",
        "\n",
        "    for i in range(len(유일성만족리스트)):\n",
        "        for j in range(i+1, len(유일성만족리스트)):\n",
        "            if 유일성만족리스트[i] in 유일성만족리스트[j]:\n",
        "                유일성만족리스트[j] = '!'\n",
        "\n",
        "    print(유일성만족리스트)\n",
        "\n",
        "    return len(유일성만족리스트) - 유일성만족리스트.count('!')"
      ]
    },
    {
      "cell_type": "code",
      "execution_count": null,
      "metadata": {
        "scrolled": true,
        "id": "aCNTuUa54d6x",
        "outputId": "a0ad0061-adac-4131-9d37-05613e54f6b2"
      },
      "outputs": [
        {
          "name": "stdout",
          "output_type": "stream",
          "text": [
            "Index(['data[0]', 'data[1]', 'data[2]', 'data[3]', 'data[0] + data[1]',\n",
            "       'data[0] + data[2]', 'data[0] + data[3]', 'data[1] + data[2]',\n",
            "       'data[1] + data[3]', 'data[2] + data[3]', 'data[0] + data[1] + data[2]',\n",
            "       'data[0] + data[1] + data[3]', 'data[0] + data[2] + data[3]',\n",
            "       'data[1] + data[2] + data[3]', 'data[0] + data[1] + data[2] + data[3]'],\n",
            "      dtype='object')\n",
            "['data[0]', '!', '!', '!', 'data[1] + data[2]', '!', '!', '!', '!', '!']\n"
          ]
        },
        {
          "data": {
            "text/plain": [
              "2"
            ]
          },
          "execution_count": 392,
          "metadata": {},
          "output_type": "execute_result"
        }
      ],
      "source": [
        "l = [['100','ryan','music','2'],\n",
        "     ['200','apeach','math','2'],\n",
        "     ['300','tube','computer','3'],\n",
        "     ['400','con','computer','4'],\n",
        "     ['500','muzi','music','3'],\n",
        "     ['600','apeach','music','2']]\n",
        "\n",
        "solution(l)"
      ]
    },
    {
      "cell_type": "code",
      "execution_count": null,
      "metadata": {
        "id": "vIi1SmgB4d6y",
        "outputId": "1b9de0ca-a123-45fc-d5bc-a5fcd1fff045"
      },
      "outputs": [
        {
          "name": "stdout",
          "output_type": "stream",
          "text": [
            "['data[0]']\n",
            "['data[1]']\n",
            "['data[2]']\n",
            "['data[3]']\n",
            "['data[0]', 'data[1]']\n",
            "['data[0]', 'data[2]']\n",
            "['data[0]', 'data[3]']\n",
            "['data[1]', 'data[2]']\n",
            "['data[1]', 'data[3]']\n",
            "['data[2]', 'data[3]']\n",
            "['data[0]', 'data[1]', 'data[2]']\n",
            "['data[0]', 'data[1]', 'data[3]']\n",
            "['data[0]', 'data[2]', 'data[3]']\n",
            "['data[1]', 'data[2]', 'data[3]']\n",
            "['data[0]', 'data[1]', 'data[2]', 'data[3]']\n"
          ]
        },
        {
          "data": {
            "text/plain": [
              "{'data[0]'}"
            ]
          },
          "execution_count": 394,
          "metadata": {},
          "output_type": "execute_result"
        }
      ],
      "source": [
        "k = ['data[0]', 'data[1]', 'data[2]', 'data[3]', 'data[0] + data[1]',\n",
        "       'data[0] + data[2]', 'data[0] + data[3]', 'data[1] + data[2]',\n",
        "       'data[1] + data[3]', 'data[2] + data[3]', 'data[0] + data[1] + data[2]',\n",
        "       'data[0] + data[1] + data[3]', 'data[0] + data[2] + data[3]',\n",
        "       'data[1] + data[2] + data[3]', 'data[0] + data[1] + data[2] + data[3]']\n",
        "\n",
        "for i in k:\n",
        "    print(i.split(' + '))\n",
        "\n",
        "\n",
        "set(['data[0]']) & set(['data[0]', 'data[1]'])"
      ]
    },
    {
      "cell_type": "code",
      "execution_count": null,
      "metadata": {
        "id": "W5idOxmj4d6y"
      },
      "outputs": [],
      "source": [
        "## 아래 코드로 하였을 때 18, 19, 20, 22, 25번이 문제 생김\n",
        "import pandas as pd\n",
        "from itertools import combinations\n",
        "\n",
        "def solution(l):\n",
        "\n",
        "    colname = range(len(l[0]))\n",
        "\n",
        "    data = pd.DataFrame(l)\n",
        "    data_ = pd.DataFrame()\n",
        "\n",
        "    유일성만족리스트 = []\n",
        "    모든이름의조합 = []\n",
        "\n",
        "    for 조합수 in range(1, len(colname)+1):\n",
        "        컬럼이름의조합 = combinations(colname, 조합수)\n",
        "        모든이름의조합.append(list(컬럼이름의조합))\n",
        "\n",
        "    for 이름조합 in 모든이름의조합:\n",
        "        for 컬럼명 in 이름조합:\n",
        "            #print(컬럼명)\n",
        "            if len(컬럼명) == 1:\n",
        "                data_[f'data[{컬럼명[0]}]'] = data[컬럼명[0]]\n",
        "            elif len(컬럼명) == 2:\n",
        "                data_[f'data[{컬럼명[0]}] + data[{컬럼명[1]}]'] = data[컬럼명[0]] + data[컬럼명[1]]\n",
        "            elif len(컬럼명) == 3:\n",
        "                data_[f'data[{컬럼명[0]}] + data[{컬럼명[1]}] + data[{컬럼명[2]}]'] = data[컬럼명[0]] + data[컬럼명[1]] + data[컬럼명[2]]\n",
        "            elif len(컬럼명) == 4:\n",
        "                data_[f'data[{컬럼명[0]}] + data[{컬럼명[1]}] + data[{컬럼명[2]}] + data[{컬럼명[3]}]'] = data[컬럼명[0]] + data[컬럼명[1]] + data[컬럼명[2]] + data[컬럼명[3]]\n",
        "            elif len(컬럼명) == 5:\n",
        "                data_[f'data[{컬럼명[0]}] + data[{컬럼명[1]}] + data[{컬럼명[2]}] + data[{컬럼명[3]}] + data[{컬럼명[4]}]'] = data[컬럼명[0]] + data[컬럼명[1]] + data[컬럼명[2]] + data[컬럼명[3]] + data[컬럼명[4]]\n",
        "            elif len(컬럼명) == 6:\n",
        "                data_[f'data[{컬럼명[0]}] + data[{컬럼명[1]}] + data[{컬럼명[2]}] + data[{컬럼명[3]}] + data[{컬럼명[4]}] + data[{컬럼명[5]}]'] = data[컬럼명[0]] + data[컬럼명[1]] + data[컬럼명[2]] + data[컬럼명[3]] + data[컬럼명[4]]  + data[컬럼명[5]]\n",
        "            elif len(컬럼명) == 7:\n",
        "                data_[f'data[{컬럼명[0]}] + data[{컬럼명[1]}] + data[{컬럼명[2]}] + data[{컬럼명[3]}] + data[{컬럼명[4]}] + data[{컬럼명[5]}] + data[{컬럼명[6]}]'] = data[컬럼명[0]] + data[컬럼명[1]] + data[컬럼명[2]] + data[컬럼명[3]] + data[컬럼명[4]] + data[컬럼명[5]] + data[컬럼명[6]]\n",
        "            elif len(컬럼명) == 8:\n",
        "                data_[f'data[{컬럼명[0]}] + data[{컬럼명[1]}] + data[{컬럼명[2]}] + data[{컬럼명[3]}] + data[{컬럼명[4]}] + data[{컬럼명[5]}] + data[{컬럼명[6]}] + data[{컬럼명[7]}]'] = data[컬럼명[0]] + data[컬럼명[1]] + data[컬럼명[2]] + data[컬럼명[3]] + data[컬럼명[4]] + data[컬럼명[5]] + data[컬럼명[6]] + data[컬럼명[7]]\n",
        "\n",
        "    인덱스 = data_.columns\n",
        "    print(인덱스)\n",
        "\n",
        "    for i in 인덱스:\n",
        "        if len(data_[i]) == len(data_[i].value_counts()):\n",
        "            유일성만족리스트.append(i)\n",
        "\n",
        "    print(유일성만족리스트)\n",
        "\n",
        "    for i in range(len(유일성만족리스트)):\n",
        "        for j in range(i+1, len(유일성만족리스트)):\n",
        "            if all(요소 in 유일성만족리스트[j].split(' + ') for 요소 in 유일성만족리스트[i].split(' + ')):\n",
        "                유일성만족리스트[j] = '!'\n",
        "\n",
        "    return len(유일성만족리스트) - 유일성만족리스트.count('!')"
      ]
    },
    {
      "cell_type": "code",
      "execution_count": null,
      "metadata": {
        "scrolled": true,
        "id": "pxSOutR74d6y",
        "outputId": "5444793f-52d8-4ac0-c8e3-2cfc3a075041"
      },
      "outputs": [
        {
          "name": "stdout",
          "output_type": "stream",
          "text": [
            "Index(['data[0]', 'data[1]', 'data[2]', 'data[3]', 'data[0] + data[1]',\n",
            "       'data[0] + data[2]', 'data[0] + data[3]', 'data[1] + data[2]',\n",
            "       'data[1] + data[3]', 'data[2] + data[3]', 'data[0] + data[1] + data[2]',\n",
            "       'data[0] + data[1] + data[3]', 'data[0] + data[2] + data[3]',\n",
            "       'data[1] + data[2] + data[3]', 'data[0] + data[1] + data[2] + data[3]'],\n",
            "      dtype='object')\n",
            "['data[0]', 'data[0] + data[1]', 'data[0] + data[2]', 'data[0] + data[3]', 'data[1] + data[2]', 'data[0] + data[1] + data[2]', 'data[0] + data[1] + data[3]', 'data[0] + data[2] + data[3]', 'data[1] + data[2] + data[3]', 'data[0] + data[1] + data[2] + data[3]']\n"
          ]
        },
        {
          "data": {
            "text/plain": [
              "2"
            ]
          },
          "execution_count": 409,
          "metadata": {},
          "output_type": "execute_result"
        }
      ],
      "source": [
        "l = [['100','ryan','music','2'],\n",
        "     ['200','apeach','math','2'],\n",
        "     ['300','tube','computer','3'],\n",
        "     ['400','con','computer','4'],\n",
        "     ['500','muzi','music','3'],\n",
        "     ['600','apeach','music','2']]\n",
        "\n",
        "solution(l)"
      ]
    },
    {
      "cell_type": "code",
      "execution_count": null,
      "metadata": {
        "scrolled": true,
        "id": "1S6eFKJg4d6z",
        "outputId": "d962aefb-4366-4f71-85f8-a8343549bb83"
      },
      "outputs": [
        {
          "data": {
            "text/plain": [
              "False"
            ]
          },
          "execution_count": 401,
          "metadata": {},
          "output_type": "execute_result"
        }
      ],
      "source": [
        "all(elem in 'data[1] + data[2] + data[3]'.split(' + ')  for elem in 'data[0] + data[3]'.split(' + '))"
      ]
    },
    {
      "cell_type": "code",
      "execution_count": null,
      "metadata": {
        "id": "fKQaSKFt4d6z",
        "outputId": "6aefbc0a-4e6c-4acf-84e9-9ecc58189e7f"
      },
      "outputs": [
        {
          "data": {
            "text/plain": [
              "True"
            ]
          },
          "execution_count": 402,
          "metadata": {},
          "output_type": "execute_result"
        }
      ],
      "source": [
        "all(elem in 'data[0] + data[2] + data[3]'.split(' + ')  for elem in 'data[0] + data[3]'.split(' + '))"
      ]
    },
    {
      "cell_type": "code",
      "execution_count": null,
      "metadata": {
        "scrolled": true,
        "id": "hukULYWz4d6z",
        "outputId": "b6608e59-60c1-4f3f-d3c4-4c2326baa0af"
      },
      "outputs": [
        {
          "data": {
            "text/plain": [
              "[False, True]"
            ]
          },
          "execution_count": 403,
          "metadata": {},
          "output_type": "execute_result"
        }
      ],
      "source": [
        "[elem in 'data[1] + data[2] + data[3]'.split(' + ')  for elem in 'data[0] + data[3]'.split(' + ')]"
      ]
    },
    {
      "cell_type": "code",
      "execution_count": null,
      "metadata": {
        "id": "lBMBXB9w4d6z"
      },
      "outputs": [],
      "source": [
        "## 아래 코드로 하였을 때 18, 19, 20, 22, 25번이 문제 생김\n",
        "import pandas as pd\n",
        "from itertools import combinations\n",
        "\n",
        "def solution(l):\n",
        "\n",
        "    colname = range(len(l[0]))\n",
        "\n",
        "    data = pd.DataFrame(l)\n",
        "    data_ = pd.DataFrame()\n",
        "\n",
        "    유일성만족리스트 = []\n",
        "    모든이름의조합 = []\n",
        "\n",
        "    for 조합수 in range(1, len(colname)+1):\n",
        "        컬럼이름의조합 = combinations(colname, 조합수)\n",
        "        모든이름의조합.append(list(컬럼이름의조합))\n",
        "\n",
        "    for 이름조합 in 모든이름의조합:\n",
        "        for 컬럼명 in 이름조합:\n",
        "            #print(컬럼명)\n",
        "            if len(컬럼명) == 1:\n",
        "                data_[f'data[{컬럼명[0]}]'] = data[컬럼명[0]]\n",
        "            elif len(컬럼명) == 2:\n",
        "                data_[f'data[{컬럼명[0]}] + data[{컬럼명[1]}]'] = data[컬럼명[0]] + data[컬럼명[1]]\n",
        "            elif len(컬럼명) == 3:\n",
        "                data_[f'data[{컬럼명[0]}] + data[{컬럼명[1]}] + data[{컬럼명[2]}]'] = data[컬럼명[0]] + data[컬럼명[1]] + data[컬럼명[2]]\n",
        "            elif len(컬럼명) == 4:\n",
        "                data_[f'data[{컬럼명[0]}] + data[{컬럼명[1]}] + data[{컬럼명[2]}] + data[{컬럼명[3]}]'] = data[컬럼명[0]] + data[컬럼명[1]] + data[컬럼명[2]] + data[컬럼명[3]]\n",
        "            elif len(컬럼명) == 5:\n",
        "                data_[f'data[{컬럼명[0]}] + data[{컬럼명[1]}] + data[{컬럼명[2]}] + data[{컬럼명[3]}] + data[{컬럼명[4]}]'] = data[컬럼명[0]] + data[컬럼명[1]] + data[컬럼명[2]] + data[컬럼명[3]] + data[컬럼명[4]]\n",
        "            elif len(컬럼명) == 6:\n",
        "                data_[f'data[{컬럼명[0]}] + data[{컬럼명[1]}] + data[{컬럼명[2]}] + data[{컬럼명[3]}] + data[{컬럼명[4]}] + data[{컬럼명[5]}]'] = data[컬럼명[0]] + data[컬럼명[1]] + data[컬럼명[2]] + data[컬럼명[3]] + data[컬럼명[4]]  + data[컬럼명[5]]\n",
        "            elif len(컬럼명) == 7:\n",
        "                data_[f'data[{컬럼명[0]}] + data[{컬럼명[1]}] + data[{컬럼명[2]}] + data[{컬럼명[3]}] + data[{컬럼명[4]}] + data[{컬럼명[5]}] + data[{컬럼명[6]}]'] = data[컬럼명[0]] + data[컬럼명[1]] + data[컬럼명[2]] + data[컬럼명[3]] + data[컬럼명[4]] + data[컬럼명[5]] + data[컬럼명[6]]\n",
        "            elif len(컬럼명) == 8:\n",
        "                data_[f'data[{컬럼명[0]}] + data[{컬럼명[1]}] + data[{컬럼명[2]}] + data[{컬럼명[3]}] + data[{컬럼명[4]}] + data[{컬럼명[5]}] + data[{컬럼명[6]}] + data[{컬럼명[7]}]'] = data[컬럼명[0]] + data[컬럼명[1]] + data[컬럼명[2]] + data[컬럼명[3]] + data[컬럼명[4]] + data[컬럼명[5]] + data[컬럼명[6]] + data[컬럼명[7]]\n",
        "\n",
        "    인덱스 = data_.columns\n",
        "\n",
        "    for i in 인덱스:\n",
        "        if len(data_[i]) == len(data_[i].value_counts()):\n",
        "            유일성만족리스트.append(i)\n",
        "\n",
        "    ## 수정된 코드\n",
        "    for i in range(len(유일성만족리스트)):\n",
        "        for j in range(i+1, len(유일성만족리스트)):\n",
        "            if all(요소 in 유일성만족리스트[j].split(' + ') for 요소 in 유일성만족리스트[i].split(' + ')):\n",
        "                유일성만족리스트[j] = '!'\n",
        "\n",
        "    return len(유일성만족리스트) - 유일성만족리스트.count('!')"
      ]
    },
    {
      "cell_type": "code",
      "execution_count": null,
      "metadata": {
        "id": "RySns3WJ4d60",
        "outputId": "0fb2b0e4-0372-4c39-ed90-a9a0152186a3"
      },
      "outputs": [
        {
          "data": {
            "text/plain": [
              "False"
            ]
          },
          "execution_count": 420,
          "metadata": {},
          "output_type": "execute_result"
        }
      ],
      "source": [
        "all(요소 in 'data[1] + data[2]'.split(' + ')  for 요소 in 'data[0] + data[3]'.split(' + '))"
      ]
    },
    {
      "cell_type": "code",
      "execution_count": null,
      "metadata": {
        "scrolled": false,
        "id": "XhkHIP7H4d60",
        "outputId": "c7d0c7f4-5c0d-46e6-a3f3-4d4e06215cc4"
      },
      "outputs": [
        {
          "data": {
            "text/plain": [
              "True"
            ]
          },
          "execution_count": 421,
          "metadata": {},
          "output_type": "execute_result"
        }
      ],
      "source": [
        "all(요소 in 'data[0] + data[3] + data[5]'.split(' + ')  for 요소 in 'data[0] + data[5]'.split(' + '))"
      ]
    },
    {
      "cell_type": "code",
      "execution_count": null,
      "metadata": {
        "scrolled": true,
        "id": "HGXnt0SE4d60",
        "outputId": "c30ab865-abaa-4404-c23a-5c7ba73c2255"
      },
      "outputs": [
        {
          "data": {
            "text/plain": [
              "[True, True]"
            ]
          },
          "execution_count": 422,
          "metadata": {},
          "output_type": "execute_result"
        }
      ],
      "source": [
        "[요소 in 'data[0] + data[3] + data[5]'.split(' + ')  for 요소 in 'data[0] + data[5]'.split(' + ')]"
      ]
    },
    {
      "cell_type": "code",
      "execution_count": null,
      "metadata": {
        "id": "y6wfVKsk4d61"
      },
      "outputs": [],
      "source": [
        "#기존코드\n",
        "if 유일성만족리스트[i] in 유일성만족리스트[j]:\n",
        "    유일성만족리스트[j] = '!'"
      ]
    },
    {
      "cell_type": "code",
      "execution_count": null,
      "metadata": {
        "id": "bpzXDNYQ4d61",
        "outputId": "fdf4142b-dcb0-4896-fde5-bb1cb7c47598"
      },
      "outputs": [
        {
          "data": {
            "text/plain": [
              "False"
            ]
          },
          "execution_count": 423,
          "metadata": {},
          "output_type": "execute_result"
        }
      ],
      "source": [
        "'data[0] + data[5]' in 'data[0] + data[3] + data[5]'"
      ]
    },
    {
      "cell_type": "markdown",
      "metadata": {
        "id": "F7MqkMEe4d61"
      },
      "source": [
        "## 12번 카카오 2019 공채 문제 4번"
      ]
    },
    {
      "cell_type": "code",
      "execution_count": null,
      "metadata": {
        "id": "PNbP7WPe4d61",
        "outputId": "a7f1d727-0b24-49a1-d7c3-95975c88aa14"
      },
      "outputs": [
        {
          "data": {
            "text/plain": [
              "deque(['a', 'b', 'c', 'd', 'e'])"
            ]
          },
          "execution_count": 425,
          "metadata": {},
          "output_type": "execute_result"
        }
      ],
      "source": [
        "from collections import deque\n",
        "\n",
        "deq = deque('abcde')\n",
        "deq"
      ]
    },
    {
      "cell_type": "code",
      "execution_count": null,
      "metadata": {
        "id": "t3qvGwxX4d62"
      },
      "outputs": [],
      "source": [
        "deq.rotate(1)"
      ]
    },
    {
      "cell_type": "code",
      "execution_count": null,
      "metadata": {
        "id": "uLAiZAI94d62",
        "outputId": "765ba76a-b828-4cf9-b41b-9f3fcbf93831"
      },
      "outputs": [
        {
          "data": {
            "text/plain": [
              "deque(['e', 'a', 'b', 'c', 'd'])"
            ]
          },
          "execution_count": 427,
          "metadata": {},
          "output_type": "execute_result"
        }
      ],
      "source": [
        "deq"
      ]
    },
    {
      "cell_type": "code",
      "execution_count": null,
      "metadata": {
        "id": "GH4cOW3O4d62",
        "outputId": "874f2dc0-5cd0-45eb-8def-507d66430224"
      },
      "outputs": [
        {
          "data": {
            "text/plain": [
              "deque(['b', 'c', 'd', 'e', 'a'])"
            ]
          },
          "execution_count": 430,
          "metadata": {},
          "output_type": "execute_result"
        }
      ],
      "source": [
        "deq.rotate(1)\n",
        "deq"
      ]
    },
    {
      "cell_type": "code",
      "execution_count": null,
      "metadata": {
        "id": "P_2-Vhd94d63"
      },
      "outputs": [],
      "source": [
        "[3, 3, 5]\n",
        "[3, 3, 5, 2, 2, 4, 1, 1, 3, 0, 0, 2, 0, 0, 1...]"
      ]
    },
    {
      "cell_type": "code",
      "execution_count": null,
      "metadata": {
        "scrolled": true,
        "id": "IbdlQODn4d63",
        "outputId": "47525d14-a7a6-4309-e49a-99fbb032e8a2"
      },
      "outputs": [
        {
          "name": "stdout",
          "output_type": "stream",
          "text": [
            "[ True  True  True False False  True  True  True False False  True  True\n",
            "  True False False  True  True  True False False  True  True  True False\n",
            " False  True  True  True False False  True  True False False False  True\n",
            "  True False False False  True  True False False False  True  True False\n",
            " False False  True  True False False False]\n"
          ]
        }
      ],
      "source": [
        "import numpy as np\n",
        "\n",
        "def solution(food_times, k):\n",
        "    if sum(food_times) <= k:\n",
        "        return -1\n",
        "\n",
        "    길이 = len(food_times)\n",
        "\n",
        "    table = food_times.copy()\n",
        "\n",
        "    food_times = np.array(food_times)\n",
        "    table = np.array(table)\n",
        "\n",
        "    for i in range(k):\n",
        "        food_times -= 1\n",
        "        table = np.r_[table, food_times]\n",
        "\n",
        "    table_bool = table > 0\n",
        "    print(table_bool)\n",
        "\n",
        "solution([1006, 96, 6, 0, 0], 10)"
      ]
    },
    {
      "cell_type": "code",
      "execution_count": null,
      "metadata": {
        "id": "3IAmAUM04d63"
      },
      "outputs": [],
      "source": [
        "[30, 10, 4]\n",
        "[29, 9, 3]\n",
        "[28, 8, 2]\n",
        "[27, 7, 1]\n",
        "[26, 6, 0]\n",
        "[25, 5, 0]"
      ]
    },
    {
      "cell_type": "code",
      "execution_count": null,
      "metadata": {
        "id": "CsKWhYKD4d63"
      },
      "outputs": [],
      "source": [
        "[30, 10, 4]\n",
        "[26, 6, 0]\n",
        "[20, 0, 0]"
      ]
    },
    {
      "cell_type": "code",
      "execution_count": null,
      "metadata": {
        "id": "-mhWrQl24d64"
      },
      "outputs": [],
      "source": [
        "## 우리는 아래와 같은 방법으로 풀이 예정 k = 30 / 길이 4\n",
        "#k = 30 / 길이 4 / 나머지 2\n",
        "[30, 10,  4,  1]\n",
        "[23,  3, -3,  0]\n",
        "[23,  3,  0,  0]\n",
        "\n",
        "#k = 5(기존 나머지에 마이너스 값을 누적) / 길이 2 / 나머지 1\n",
        "[23,  3,  0,  0]\n",
        "[21,  1,  0,  0]\n",
        "\n",
        "#k = 1(기존 나머지에 마이너스 값을 누적) / 길이 2\n",
        "[21,  1,  0,  0]"
      ]
    },
    {
      "cell_type": "code",
      "execution_count": null,
      "metadata": {
        "id": "OuIl6n4y4d64",
        "outputId": "5373ab8f-5942-48fe-c17b-90bb76e6a61f"
      },
      "outputs": [
        {
          "name": "stdout",
          "output_type": "stream",
          "text": [
            "100\n",
            "food_times : [10, 1, 30, 1000], 마이너스값 : 25, 나머지 : 0\n",
            "0 10\n",
            "1 1\n",
            "2 30\n",
            "3 1000\n",
            "39\n",
            "food_times : [0, 0, 5, 975], 마이너스값 : 19, 나머지 : 1\n",
            "0 0\n",
            "1 0\n",
            "2 5\n",
            "3 975\n",
            "15\n",
            "food_times : [0, 0, 0, 956], 마이너스값 : 15, 나머지 : 0\n",
            "0 0\n",
            "1 0\n",
            "2 0\n",
            "3 956\n"
          ]
        },
        {
          "data": {
            "text/plain": [
              "4"
            ]
          },
          "execution_count": 440,
          "metadata": {},
          "output_type": "execute_result"
        }
      ],
      "source": [
        "def solution(food_times, k):\n",
        "    answer = 0\n",
        "\n",
        "    while k >= 0:\n",
        "\n",
        "        if sum(food_times) <= k:\n",
        "            return -1\n",
        "\n",
        "        영외에남은테이블 = len(food_times) - food_times.count(0)\n",
        "        회전수 = k // 영외에남은테이블\n",
        "        회전한나머지수 = k % 영외에남은테이블\n",
        "\n",
        "        print(k)\n",
        "        print(f'food_times : {food_times}, 마이너스값 : {회전수}, 나머지 : {회전한나머지수}')\n",
        "\n",
        "        for 인덱스, 값 in enumerate(food_times):\n",
        "            print(인덱스, 값)\n",
        "            if food_times[인덱스] != 0:\n",
        "                food_times[인덱스] = 값 - 회전수\n",
        "                if food_times[인덱스] < 0:\n",
        "                    회전한나머지수 -= food_times[인덱스]\n",
        "                    food_times[인덱스] = 0\n",
        "\n",
        "        k = 회전한나머지수\n",
        "\n",
        "        영외에남은테이블 = len(food_times) - food_times.count(0)\n",
        "        if k + 1 <= 영외에남은테이블:\n",
        "            for i in food_times:\n",
        "                answer += 1\n",
        "                if i != 0: k -= 1\n",
        "                if k == -1: return answer\n",
        "\n",
        "solution([10, 1, 30, 1000], 100)"
      ]
    },
    {
      "cell_type": "markdown",
      "metadata": {
        "id": "flgT67A_4d65"
      },
      "source": [
        "## 13번 카카오 2020 공채 문제 1번"
      ]
    },
    {
      "cell_type": "code",
      "execution_count": null,
      "metadata": {
        "id": "DUwPULnq4d65",
        "outputId": "22b20864-2dee-41ba-c996-156705255c42"
      },
      "outputs": [
        {
          "name": "stdout",
          "output_type": "stream",
          "text": [
            "[a-z]{1}\n",
            "['a', 'a', 'b', 'b', 'a', 'c', 'c', 'c']\n",
            "[a-z]{2}\n",
            "['aa', 'bb', 'ac', 'cc']\n",
            "[a-z]{3}\n",
            "['aab', 'bac']\n",
            "[a-z]{4}\n",
            "['aabb', 'accc']\n"
          ]
        }
      ],
      "source": [
        "import re\n",
        "\n",
        "s = 'aabbaccc'\n",
        "for i in range(1, len(s)//2+1):\n",
        "    패턴 = f'[a-z]{{{i}}}'\n",
        "    print(패턴)\n",
        "    패턴 = re.compile(패턴)\n",
        "    print(패턴.findall(s))"
      ]
    },
    {
      "cell_type": "code",
      "execution_count": null,
      "metadata": {
        "id": "RoM2vMQB4d65",
        "outputId": "a0848b8a-00ae-4d31-9965-e3c6cfccf45d"
      },
      "outputs": [
        {
          "name": "stdout",
          "output_type": "stream",
          "text": [
            "[a-z]{1}\n",
            "['a', 'a', 'b', 'b', 'a', 'c', 'c', 'c']\n",
            "2a2b3c\n",
            "[a-z]{2}\n",
            "['aa', 'bb', 'ac', 'cc']\n",
            "\n",
            "[a-z]{3}\n",
            "['aab', 'bac']\n",
            "\n",
            "[a-z]{4}\n",
            "['aabb', 'accc']\n",
            "\n"
          ]
        }
      ],
      "source": [
        "import re\n",
        "\n",
        "s = 'aabbaccc'\n",
        "for i in range(1, len(s)//2+1):\n",
        "    패턴 = f'[a-z]{{{i}}}'\n",
        "    print(패턴)\n",
        "    패턴 = re.compile(패턴)\n",
        "    print(패턴.findall(s))\n",
        "    압축문자열 = ''\n",
        "    잘려진문자열 = 패턴.findall(s)\n",
        "    count = 1\n",
        "    for i in range(len(잘려진문자열)-1):\n",
        "        if 잘려진문자열[i] == 잘려진문자열[i+1]:\n",
        "            count += 1\n",
        "        else:\n",
        "            if count > 1:\n",
        "                압축문자열 += f'{count}{잘려진문자열[i]}'\n",
        "            count = 1\n",
        "        if i == len(잘려진문자열)-2:\n",
        "            if count > 1:\n",
        "                압축문자열 += f'{count}{잘려진문자열[i]}'\n",
        "            else:\n",
        "                pass\n",
        "\n",
        "    print(압축문자열)"
      ]
    },
    {
      "cell_type": "code",
      "execution_count": null,
      "metadata": {
        "id": "Ol52bHjE4d65",
        "outputId": "485bf5a5-4a1f-47ad-b7eb-fe6488bcf70b"
      },
      "outputs": [
        {
          "name": "stdout",
          "output_type": "stream",
          "text": [
            "[a-z]{1}\n",
            "['a', 'b', 'a', 'b', 'c', 'd', 'c', 'd', 'a', 'b', 'a', 'b', 'c', 'd', 'c', 'd']\n",
            "\n",
            "[a-z]{2}\n",
            "['ab', 'ab', 'cd', 'cd', 'ab', 'ab', 'cd', 'cd']\n",
            "2ab2cd2ab2cd\n",
            "[a-z]{3}\n",
            "['aba', 'bcd', 'cda', 'bab', 'cdc']\n",
            "\n",
            "[a-z]{4}\n",
            "['abab', 'cdcd', 'abab', 'cdcd']\n",
            "\n",
            "[a-z]{5}\n",
            "['ababc', 'dcdab', 'abcdc']\n",
            "\n",
            "[a-z]{6}\n",
            "['ababcd', 'cdabab']\n",
            "\n",
            "[a-z]{7}\n",
            "['ababcdc', 'dababcd']\n",
            "\n",
            "[a-z]{8}\n",
            "['ababcdcd', 'ababcdcd']\n",
            "2ababcdcd\n"
          ]
        }
      ],
      "source": [
        "import re\n",
        "\n",
        "s = 'ababcdcdababcdcd'\n",
        "for i in range(1, len(s)//2+1):\n",
        "    패턴 = f'[a-z]{{{i}}}'\n",
        "    print(패턴)\n",
        "    패턴 = re.compile(패턴)\n",
        "    print(패턴.findall(s))\n",
        "    압축문자열 = ''\n",
        "    잘려진문자열 = 패턴.findall(s)\n",
        "    count = 1\n",
        "    for i in range(len(잘려진문자열)-1):\n",
        "        if 잘려진문자열[i] == 잘려진문자열[i+1]:\n",
        "            count += 1\n",
        "        else:\n",
        "            if count > 1:\n",
        "                압축문자열 += f'{count}{잘려진문자열[i]}'\n",
        "            count = 1\n",
        "        if i == len(잘려진문자열)-2:\n",
        "            if count > 1:\n",
        "                압축문자열 += f'{count}{잘려진문자열[i]}'\n",
        "            else:\n",
        "                pass\n",
        "\n",
        "    print(압축문자열)"
      ]
    },
    {
      "cell_type": "code",
      "execution_count": null,
      "metadata": {
        "id": "tDxTP-db4d66",
        "outputId": "eeabc9d0-4ee2-4552-a542-f0ebc12b2286"
      },
      "outputs": [
        {
          "name": "stdout",
          "output_type": "stream",
          "text": [
            "[a-z]{1}\n",
            "['a', 'b', 'c', 'a', 'b', 'c', 'a', 'b', 'c', 'a', 'b', 'c', 'd', 'e', 'd', 'e', 'd', 'e', 'd', 'e', 'd', 'e', 'd', 'e']\n",
            "abcabcabcabcdedededededd\n",
            "[a-z]{2}\n",
            "['ab', 'ca', 'bc', 'ab', 'ca', 'bc', 'de', 'de', 'de', 'de', 'de', 'de']\n",
            "abcabcabcabc6de\n",
            "[a-z]{3}\n",
            "['abc', 'abc', 'abc', 'abc', 'ded', 'ede', 'ded', 'ede']\n",
            "4abcdededededded\n",
            "[a-z]{4}\n",
            "['abca', 'bcab', 'cabc', 'dede', 'dede', 'dede']\n",
            "abcabcabcabc3dede\n",
            "[a-z]{5}\n",
            "['abcab', 'cabca', 'bcded', 'edede']\n",
            "abcabcabcabcdedbcdeddede\n",
            "[a-z]{6}\n",
            "['abcabc', 'abcabc', 'dedede', 'dedede']\n",
            "2abcabc2dedede\n",
            "[a-z]{7}\n",
            "['abcabca', 'bcabcde', 'dededed']\n",
            "abcabcabcabcdebcabcdeede\n",
            "[a-z]{8}\n",
            "['abcabcab', 'cabcdede', 'dededede']\n",
            "abcabcabcabcdedecabcdede\n",
            "[a-z]{9}\n",
            "['abcabcabc', 'abcdedede']\n",
            "abcabcabcabcabcabcdedede\n",
            "[a-z]{10}\n",
            "['abcabcabca', 'bcdededede']\n",
            "abcabcabcaabcabcabcadede\n",
            "[a-z]{11}\n",
            "['abcabcabcab', 'cdedededede']\n",
            "abcabcabcababcabcabcabde\n",
            "[a-z]{12}\n",
            "['abcabcabcabc', 'dededededede']\n",
            "abcabcabcabcabcabcabcabc\n"
          ]
        },
        {
          "data": {
            "text/plain": [
              "14"
            ]
          },
          "execution_count": 308,
          "metadata": {},
          "output_type": "execute_result"
        }
      ],
      "source": [
        "import re\n",
        "\n",
        "s = 'abcabcabcabcdededededede'\n",
        "문자열길이 = []\n",
        "\n",
        "for 슬라이스개수 in range(1, len(s)//2+1):\n",
        "    패턴 = f'[a-z]{{{슬라이스개수}}}'\n",
        "    print(패턴)\n",
        "    패턴 = re.compile(패턴)\n",
        "    print(패턴.findall(s))\n",
        "    압축문자열 = ''\n",
        "    잘려진문자열 = 패턴.findall(s)\n",
        "    count = 1\n",
        "    for i in range(len(잘려진문자열)-1):\n",
        "        if 잘려진문자열[i] == 잘려진문자열[i+1]:\n",
        "            count += 1\n",
        "        else:\n",
        "            if count > 1:\n",
        "                압축문자열 += f'{count}{잘려진문자열[i]}'\n",
        "                count = 1\n",
        "            else:\n",
        "                압축문자열 += f'{잘려진문자열[i]}'\n",
        "        if i == len(잘려진문자열)-2:\n",
        "            if count > 1:\n",
        "                if 잘려진문자열[i] == 잘려진문자열[i+1]:\n",
        "                    압축문자열 += f'{count}{잘려진문자열[i]}'\n",
        "            else:\n",
        "                압축문자열 += f'{잘려진문자열[i]}'\n",
        "\n",
        "    if len(s) % 슬라이스개수 != 0:\n",
        "        압축문자열 += s[-(len(s) % 슬라이스개수):]\n",
        "\n",
        "    print(압축문자열)\n",
        "\n",
        "    문자열길이.append(len(압축문자열))\n",
        "\n",
        "min(문자열길이)"
      ]
    },
    {
      "cell_type": "code",
      "execution_count": null,
      "metadata": {
        "id": "GAO__zQU4d66"
      },
      "outputs": [],
      "source": [
        "import re\n",
        "\n",
        "s = 'abcabcabcabcdededededede'\n",
        "문자열길이 = []\n",
        "\n",
        "for 슬라이스개수 in range(1, len(s)//2+1):\n",
        "    패턴 = f'[a-z]{{{슬라이스개수}}}'\n",
        "    print(패턴)\n",
        "    패턴 = re.compile(패턴)\n",
        "    print(패턴.findall(s))\n",
        "    압축문자열 = ''\n",
        "    잘려진문자열 = 패턴.findall(s)\n",
        "    count = 1\n",
        "    for i in range(len(잘려진문자열)-1):\n",
        "        if 잘려진문자열[i] == 잘려진문자열[i+1]:\n",
        "            count += 1\n",
        "        else:\n",
        "            if count > 1:\n",
        "                압축문자열 += f'{count}{잘려진문자열[i]}'\n",
        "                count = 1\n",
        "            else:\n",
        "                압축문자열 += f'{잘려진문자열[i]}'\n",
        "        if i == len(잘려진문자열)-2:\n",
        "            if count > 1:\n",
        "                if 잘려진문자열[i] == 잘려진문자열[i+1]:\n",
        "                    압축문자열 += f'{count}{잘려진문자열[i]}'\n",
        "            else:\n",
        "                압축문자열 += f'{잘려진문자열[i]}'\n",
        "\n",
        "    if len(s) % 슬라이스개수 != 0:\n",
        "        압축문자열 += s[-(len(s) % 슬라이스개수):]\n",
        "\n",
        "    print(압축문자열)\n",
        "\n",
        "    문자열길이.append(len(압축문자열))\n",
        "\n",
        "min(문자열길이)"
      ]
    },
    {
      "cell_type": "code",
      "execution_count": null,
      "metadata": {
        "id": "IsSM92S54d66",
        "outputId": "0cdb84bc-5723-425f-f09a-d9690a6611d1"
      },
      "outputs": [
        {
          "data": {
            "text/plain": [
              "1"
            ]
          },
          "execution_count": 309,
          "metadata": {},
          "output_type": "execute_result"
        }
      ],
      "source": [
        "## 문자열의 길이가 한개인 경우 애러가 났음!!!!!\n",
        "\n",
        "import re\n",
        "\n",
        "def solution(s):\n",
        "    if len(s) == 1:\n",
        "        return 1\n",
        "    문자열길이 = []\n",
        "\n",
        "    for 표현식 in range(1, len(s)//2+1):\n",
        "        ss = f'[a-z]{{{표현식}}}'\n",
        "        패턴 = re.compile(ss)\n",
        "        압축문자열 = ''\n",
        "        잘라진문자열 = 패턴.findall(s)\n",
        "        count = 1\n",
        "        for i in range(len(잘라진문자열)-1):\n",
        "            if 잘라진문자열[i] == 잘라진문자열[i+1]:\n",
        "                count += 1\n",
        "            else:\n",
        "                if count > 1:\n",
        "                    압축문자열 += f'{count}{잘라진문자열[i]}'\n",
        "                    count = 1\n",
        "                else:\n",
        "                    압축문자열 += f'{잘라진문자열[i]}'\n",
        "            if i == len(잘라진문자열)-2:\n",
        "                if count > 1:\n",
        "                    if 잘라진문자열[i] == 잘라진문자열[i+1]:\n",
        "                        압축문자열 += f'{count}{잘라진문자열[i]}'\n",
        "                else:\n",
        "                    압축문자열 += f'{잘라진문자열[i+1]}'\n",
        "\n",
        "        if len(s) % 표현식 != 0:\n",
        "            압축문자열 += s[-(len(s) % 표현식):]\n",
        "        문자열길이.append(len(압축문자열))\n",
        "    return min(문자열길이)\n",
        "\n",
        "\n",
        "solution('a')"
      ]
    },
    {
      "cell_type": "markdown",
      "metadata": {
        "id": "_ma5FnXu4d67"
      },
      "source": [
        "## 14번 카카오 2020 공채 문제 4번"
      ]
    },
    {
      "cell_type": "code",
      "execution_count": null,
      "metadata": {
        "id": "DI5pjEIv4d67",
        "outputId": "3f265be4-d51a-4004-a1e5-9c7034e1da6f"
      },
      "outputs": [
        {
          "name": "stdout",
          "output_type": "stream",
          "text": [
            "[]\n",
            "[]\n",
            "[]\n",
            "['frozen']\n",
            "[]\n",
            "[]\n"
          ]
        }
      ],
      "source": [
        "import re\n",
        "\n",
        "words = [\"frodo\", \"front\", \"frost\", \"frozen\", \"frame\", \"kakao\"]\n",
        "queries = [\"fro??\", \"????o\", \"fr???\", \"fro???\", \"pro?\"]\n",
        "\n",
        "q = queries[3].replace('?', '.')\n",
        "\n",
        "패턴 = re.compile(q)\n",
        "\n",
        "for s in words:\n",
        "    매칭패턴 = 패턴.findall(s)\n",
        "    print(매칭패턴)"
      ]
    },
    {
      "cell_type": "code",
      "execution_count": null,
      "metadata": {
        "id": "sC6Zt5AB4d68",
        "outputId": "92f27eec-5ea0-4b11-fd53-46181ca00aa0"
      },
      "outputs": [
        {
          "data": {
            "text/plain": [
              "[3, 2, 4, 1, 0]"
            ]
          },
          "execution_count": 451,
          "metadata": {},
          "output_type": "execute_result"
        }
      ],
      "source": [
        "import re\n",
        "\n",
        "words = [\"frodo\", \"front\", \"frost\", \"frozen\", \"frame\", \"kakao\"]\n",
        "queries = [\"fro??\", \"????o\", \"fr???\", \"fro???\", \"pro?\"]\n",
        "\n",
        "answer = []\n",
        "\n",
        "for q in queries:\n",
        "    q = q.replace('?', '.')\n",
        "    패턴 = re.compile(q)\n",
        "    매칭카운트 = 0\n",
        "\n",
        "    for s in words:\n",
        "        매칭패턴 = 패턴.findall(s)\n",
        "        if 매칭패턴 and len(s) == len(q):\n",
        "            매칭카운트 += 1\n",
        "    answer.append(매칭카운트)\n",
        "\n",
        "answer"
      ]
    },
    {
      "cell_type": "code",
      "execution_count": null,
      "metadata": {
        "id": "UqJ9xZnj4d69",
        "outputId": "0735b8c2-3ab7-4f17-bdc8-ec11e400f5d8"
      },
      "outputs": [
        {
          "data": {
            "text/plain": [
              "[3, 2, 4, 1, 0]"
            ]
          },
          "execution_count": 452,
          "metadata": {},
          "output_type": "execute_result"
        }
      ],
      "source": [
        "import re\n",
        "\n",
        "def solution(words, queries):\n",
        "    answer = []\n",
        "    for q in queries:\n",
        "        q = q.replace('?', '.')\n",
        "        패턴 = re.compile(q)\n",
        "        매칭카운트 = 0\n",
        "        for s in words:\n",
        "            매칭패턴 = 패턴.findall(s)\n",
        "            if 매칭패턴 and len(s) == len(q):\n",
        "                매칭카운트 += 1\n",
        "        answer.append(매칭카운트)\n",
        "\n",
        "    return answer\n",
        "\n",
        "words = [\"frodo\", \"front\", \"frost\", \"frozen\", \"frame\", \"kakao\"]\n",
        "queries = [\"fro??\", \"????o\", \"fr???\", \"fro???\", \"pro?\"]\n",
        "\n",
        "solution(words, queries)"
      ]
    },
    {
      "cell_type": "code",
      "execution_count": null,
      "metadata": {
        "id": "MC9LOr6z4d69"
      },
      "outputs": [],
      "source": [
        "## 두번째 풀이\n",
        "'frodo'\n",
        "{'f':다음object} count = 1\n",
        "{'r':다음object} count = 1\n",
        "{'o':다음object} count = 1\n",
        "{'d':다음object} count = 1\n",
        "{'o':다음object} count = 1"
      ]
    },
    {
      "cell_type": "code",
      "execution_count": null,
      "metadata": {
        "id": "Gf7fziRF4d69"
      },
      "outputs": [],
      "source": [
        "'frodo', 'front'\n",
        "{'f':다음object} count = 2\n",
        "{'r':다음object} count = 2\n",
        "{'o':다음object} count = 2\n",
        "{'d':다음object} count = 1, {'n':다음object} count = 1\n",
        "{'o':다음object} count = 1, {'t':다음object} count = 1"
      ]
    },
    {
      "cell_type": "code",
      "execution_count": null,
      "metadata": {
        "id": "ARAo0u-k4d69",
        "outputId": "69e790f4-0122-4179-f1c7-814f87b17d28"
      },
      "outputs": [
        {
          "name": "stdout",
          "output_type": "stream",
          "text": [
            "[[{}], [{}, {}], [{}, {}, {}], [{}, {}, {}, {}], [{}, {}, {}, {}, {}], [{}, {}, {}, {}, {}, {}], [{}, {}, {}, {}, {}, {}, {}], [{}, {}, {}, {}, {}, {}, {}, {}], [{}, {}, {}, {}, {}, {}, {}, {}, {}], [{}, {}, {}, {}, {}, {}, {}, {}, {}, {}]]\n"
          ]
        },
        {
          "data": {
            "text/plain": [
              "[]"
            ]
          },
          "execution_count": 463,
          "metadata": {},
          "output_type": "execute_result"
        }
      ],
      "source": [
        "def solution(words):\n",
        "    트라이 = [[dict() for j in range(i+1)] for i in range(10)]\n",
        "    answer = []\n",
        "\n",
        "    print(트라이)\n",
        "\n",
        "    return answer\n",
        "\n",
        "solution(['frodo', 'front'])\n",
        "\n",
        "\n",
        "# [{'f':2}, {'r':2}, {'o':2}, {'d':1, 'n':1}, {'o':1, 't':1}]"
      ]
    },
    {
      "cell_type": "code",
      "execution_count": null,
      "metadata": {
        "scrolled": false,
        "id": "d_woNVPY4d6-",
        "outputId": "d998a46d-04c7-43c3-ff28-49283e76abb9"
      },
      "outputs": [
        {
          "name": "stdout",
          "output_type": "stream",
          "text": [
            "[[{}], [{}, {}], [{}, {}, {}], [{}, {}, {}, {}], [{}, {}, {}, {}, {}], [{}, {}, {}, {}, {}, {}], [{}, {}, {}, {}, {}, {}, {}], [{}, {}, {}, {}, {}, {}, {}, {}], [{}, {}, {}, {}, {}, {}, {}, {}, {}], [{}, {}, {}, {}, {}, {}, {}, {}, {}, {}]]\n",
            "------\n",
            "[{'f': 2, 'p': 1}, {'r': 3}, {'o': 3}, {'d': 2, 'n': 1}, {'o': 2, 't': 1}]\n"
          ]
        },
        {
          "data": {
            "text/plain": [
              "[]"
            ]
          },
          "execution_count": 472,
          "metadata": {},
          "output_type": "execute_result"
        }
      ],
      "source": [
        "def solution(words):\n",
        "    트라이 = [[dict() for j in range(i+1)] for i in range(10)]\n",
        "    answer = []\n",
        "\n",
        "    print(트라이)\n",
        "\n",
        "    for 각각의문자열 in words:\n",
        "        for index, 개별문자 in enumerate(각각의문자열):\n",
        "            if 개별문자 in 트라이[len(각각의문자열)-1][index]:\n",
        "                트라이[len(각각의문자열)-1][index][개별문자] += 1\n",
        "            else:\n",
        "                트라이[len(각각의문자열)-1][index][개별문자] = 1\n",
        "\n",
        "    print('------')\n",
        "    print(트라이[4])\n",
        "\n",
        "    return answer\n",
        "\n",
        "solution(['frodo', 'front', 'prodo'], ['pro??'])\n",
        "\n",
        "\n",
        "# [{'f':2}, {'r':2}, {'o':2}, {'d':1, 'n':1}, {'o':1, 't':1}]"
      ]
    },
    {
      "cell_type": "code",
      "execution_count": null,
      "metadata": {
        "id": "SjbWon_E4d6-"
      },
      "outputs": [],
      "source": [
        "# Tree로 해결하는 방법(대부분의 검색 효율성은 Tree 문제)\n",
        "# 단어 문제이기 때문에 트라이라는 알고리즘 선택"
      ]
    },
    {
      "cell_type": "code",
      "execution_count": null,
      "metadata": {
        "id": "MWQh3Hzt4d6_"
      },
      "outputs": [],
      "source": [
        "# 하나의 레벨(층) 단위의 dict 생성\n",
        "{\n",
        "    'f' : {\n",
        "     '연결노드' : 다음노드,\n",
        "     '개수' : 0\n",
        "    }\n",
        "}"
      ]
    },
    {
      "cell_type": "code",
      "execution_count": null,
      "metadata": {
        "id": "cg8lAO8x4d6_"
      },
      "outputs": [],
      "source": [
        "# 하나의 레벨(층) 단위의 dict 생성\n",
        "# 레벨1 노드\n",
        "{\n",
        "    'f' : {\n",
        "     '연결노드' : 다음노드,\n",
        "     '개수' : 2,\n",
        "     '현재레벨' : 1 #문자열의 개수\n",
        "    }\n",
        "}\n",
        "\n",
        "#레벨2 'f' 연결 노드\n",
        "{\n",
        "    'r' : {\n",
        "     '연결노드' : 다음노드,\n",
        "     '개수' : 2,\n",
        "     '현재레벨' : 2\n",
        "    }\n",
        "}\n",
        "\n",
        "#레벨3 'r' 연결 노드\n",
        "{\n",
        "    'o' : {\n",
        "     '연결노드' : 다음노드,\n",
        "     '개수' : 2,\n",
        "     '현재레벨' : 3\n",
        "    }\n",
        "}\n",
        "\n",
        "#레벨4 'o' 연결 노드\n",
        "{\n",
        "    'd' : {\n",
        "     '연결노드' : 다음노드,\n",
        "     '개수' : 1,\n",
        "     '현재레벨' : 4\n",
        "    },\n",
        "    'n' : {\n",
        "     '연결노드' : 다음노드,\n",
        "     '개수' : 1,\n",
        "     '현재레벨' : 4\n",
        "    }\n",
        "}\n",
        "\n",
        "#레벨5 'd' 연결 노드\n",
        "{\n",
        "    'o' : {\n",
        "     '연결노드' : 다음노드,\n",
        "     '개수' : 1,\n",
        "     '현재레벨' : 5\n",
        "    }\n",
        "}\n",
        "\n",
        "#레벨5 'n' 연결 노드\n",
        "{\n",
        "    't' : {\n",
        "     '연결노드' : 다음노드,\n",
        "     '개수' : 1,\n",
        "     '현재레벨' : 5\n",
        "    }\n",
        "}"
      ]
    },
    {
      "cell_type": "code",
      "execution_count": null,
      "metadata": {
        "id": "KcHj_0bR4d6_",
        "outputId": "7d416fce-be79-4002-fb05-4cb4f15cafa7"
      },
      "outputs": [
        {
          "data": {
            "text/plain": [
              "<__main__.Node at 0x2a567742d90>"
            ]
          },
          "execution_count": 477,
          "metadata": {},
          "output_type": "execute_result"
        }
      ],
      "source": [
        "class Node(object):\n",
        "    def __init__(self):\n",
        "        self.레벨단위연결노드 = {}\n",
        "\n",
        "    def insert_data(self, 문자열):\n",
        "        for 레벨, 문자 in enumerate(문자열, 1):\n",
        "            if 문자 not in self.레벨단위연결노드:\n",
        "                self.레벨단위연결노드[문자] = {\n",
        "                     '연결노드' : Node(),\n",
        "                     '개수' : 1,\n",
        "                     '현재레벨' : 레벨\n",
        "                }\n",
        "            else:\n",
        "                self.레벨단위연결노드[문자]['개수'] += 1\n",
        "            self = self.레벨단위연결노드[문자]['연결노드']\n",
        "\n",
        "트라이인스턴스 = Node()\n",
        "트라이인스턴스.insert_data('frodo')\n",
        "\n",
        "트라이인스턴스.레벨단위연결노드\n",
        "트라이인스턴스.레벨단위연결노드['f']\n",
        "트라이인스턴스.레벨단위연결노드['f']['연결노드']\n",
        "트라이인스턴스.레벨단위연결노드['f']['연결노드'].레벨단위연결노드\n",
        "트라이인스턴스.레벨단위연결노드['f']['연결노드'].레벨단위연결노드['r']['연결노드']"
      ]
    },
    {
      "cell_type": "code",
      "execution_count": null,
      "metadata": {
        "id": "ogZnUnbq4d7A",
        "outputId": "2c1c4562-63b0-40a0-87e3-abd3769cafbc"
      },
      "outputs": [
        {
          "name": "stdout",
          "output_type": "stream",
          "text": [
            "{'f': {'연결노드': <__main__.Node object at 0x000002A567C1C730>, '개수': 1, '현재레벨': 1}}\n",
            "{'r': {'연결노드': <__main__.Node object at 0x000002A567D6BA30>, '개수': 1, '현재레벨': 2}}\n",
            "{'o': {'연결노드': <__main__.Node object at 0x000002A569BDB580>, '개수': 1, '현재레벨': 3}}\n",
            "{'d': {'연결노드': <__main__.Node object at 0x000002A569BDB520>, '개수': 1, '현재레벨': 4}}\n",
            "{'o': {'연결노드': <__main__.Node object at 0x000002A567579D90>, '개수': 1, '현재레벨': 5}}\n",
            "{'f': {'연결노드': <__main__.Node object at 0x000002A567C1C730>, '개수': 2, '현재레벨': 1}}\n",
            "{'r': {'연결노드': <__main__.Node object at 0x000002A567D6BA30>, '개수': 2, '현재레벨': 2}}\n",
            "{'o': {'연결노드': <__main__.Node object at 0x000002A569BDB580>, '개수': 2, '현재레벨': 3}}\n",
            "{'d': {'연결노드': <__main__.Node object at 0x000002A569BDB520>, '개수': 1, '현재레벨': 4}, 'n': {'연결노드': <__main__.Node object at 0x000002A567579520>, '개수': 1, '현재레벨': 4}}\n",
            "{'t': {'연결노드': <__main__.Node object at 0x000002A567579760>, '개수': 1, '현재레벨': 5}}\n"
          ]
        }
      ],
      "source": [
        "class Node(object):\n",
        "    def __init__(self):\n",
        "        self.레벨단위연결노드 = {}\n",
        "\n",
        "    def insert_data(self, 문자열):\n",
        "        for 레벨, 문자 in enumerate(문자열, 1):\n",
        "            if 문자 not in self.레벨단위연결노드:\n",
        "                self.레벨단위연결노드[문자] = {\n",
        "                     '연결노드' : Node(),\n",
        "                     '개수' : 1,\n",
        "                     '현재레벨' : 레벨\n",
        "                }\n",
        "            else:\n",
        "                self.레벨단위연결노드[문자]['개수'] += 1\n",
        "            print(self.레벨단위연결노드)\n",
        "            self = self.레벨단위연결노드[문자]['연결노드']\n",
        "\n",
        "트라이인스턴스 = Node()\n",
        "트라이인스턴스.insert_data('frodo')\n",
        "트라이인스턴스.insert_data('front')"
      ]
    },
    {
      "cell_type": "code",
      "execution_count": null,
      "metadata": {
        "id": "KJA9KEIy4d7A",
        "outputId": "32938003-be94-4a4c-d487-6a2f826fd0bf"
      },
      "outputs": [
        {
          "data": {
            "text/plain": [
              "[3, 2, 4, 1, 0, 5]"
            ]
          },
          "execution_count": 485,
          "metadata": {},
          "output_type": "execute_result"
        }
      ],
      "source": [
        "class Node(object):\n",
        "    def __init__(self):\n",
        "        self.레벨단위연결노드 = {}\n",
        "        self.전체숫자합 = 0\n",
        "\n",
        "    def insert_data(self, 문자열):\n",
        "        for 레벨, 문자 in enumerate(문자열, 1):\n",
        "            if 문자 not in self.레벨단위연결노드:\n",
        "                self.레벨단위연결노드[문자] = {\n",
        "                     '연결노드' : Node(),\n",
        "                     '개수' : 1,\n",
        "                     '현재레벨' : 레벨\n",
        "                }\n",
        "                self.전체숫자합 += 1\n",
        "            else:\n",
        "                self.레벨단위연결노드[문자]['개수'] += 1\n",
        "                self.전체숫자합 += 1\n",
        "            self = self.레벨단위연결노드[문자]['연결노드']\n",
        "\n",
        "    def get_count(self, 문자열):\n",
        "        문자열길이 = len(문자열)\n",
        "        문자열물음표카운트 = 문자열.count('?')\n",
        "        if 문자열길이 == 문자열물음표카운트:\n",
        "            return self.전체숫자합\n",
        "        for 문자 in 문자열:\n",
        "            if 문자 == '?':\n",
        "                return temp\n",
        "            elif 문자 not in self.레벨단위연결노드:\n",
        "                return 0\n",
        "            temp = self.레벨단위연결노드[문자]['개수']\n",
        "            self = self.레벨단위연결노드[문자]['연결노드']\n",
        "        return self.레벨단위연결노드[문자]['개수']\n",
        "\n",
        "def solution(words, queries):\n",
        "    answer = []\n",
        "\n",
        "    트라이 = [Node() for i in range(10000)]\n",
        "    트라이역순 = [Node() for i in range(10000)]\n",
        "\n",
        "    for word in words:\n",
        "        트라이[len(word)-1].insert_data(word)\n",
        "        트라이역순[len(word)-1].insert_data(word[::-1])\n",
        "\n",
        "    for q in queries:\n",
        "        if q[0] != '?':\n",
        "            answer.append(트라이[len(q)-1].get_count(q))\n",
        "        else:\n",
        "            answer.append(트라이역순[len(q)-1].get_count(q[::-1]))\n",
        "\n",
        "    return answer\n",
        "\n",
        "solution([\"frodo\", \"front\", \"frost\", \"frozen\", \"frame\", \"kakao\"],\n",
        "         [\"fro??\", \"????o\", \"fr???\", \"fro???\", \"pro?\", \"?????\"])"
      ]
    },
    {
      "cell_type": "code",
      "execution_count": null,
      "metadata": {
        "id": "vLvD4gNc4d7B",
        "outputId": "6dceb841-72ad-4579-9361-5151bde368c2"
      },
      "outputs": [
        {
          "data": {
            "text/plain": [
              "[3, 2, 4, 1, 0, 5]"
            ]
          },
          "execution_count": 490,
          "metadata": {},
          "output_type": "execute_result"
        }
      ],
      "source": [
        "'''\n",
        "필요없는 변수 삭제 : 레벨\n",
        "필요없는 함수 삭제 : enumerate\n",
        "변수명줄이기\n",
        "전체숫자합\n",
        "테스트 1 〉\t통과 (2472.44ms, 300MB)\n",
        "테스트 2 〉\t통과 (4367.39ms, 572MB)\n",
        "테스트 3 〉\t실패 (시간 초과)\n",
        "테스트 4 〉\t통과 (3368.21ms, 665MB)\n",
        "테스트 5 〉\t통과 (7125.19ms, 1.22GB)\n",
        "\n",
        "통과기준\n",
        "테스트 1 〉\t통과 (1914.18ms, 300MB)\n",
        "테스트 2 〉\t통과 (3968.34ms, 572MB)\n",
        "테스트 3 〉\t통과 (3968.64ms, 534MB)\n",
        "테스트 4 〉\t통과 (3623.64ms, 665MB)\n",
        "테스트 5 〉\t통과 (7930.89ms, 1.22GB)\n",
        "'''\n",
        "class Node(object):\n",
        "    def __init__(self):\n",
        "        self.레벨단위연결노드 = {}\n",
        "\n",
        "    def insert_data(self, 문자열):\n",
        "        for 문자 in 문자열:\n",
        "            if 문자 not in self.레벨단위연결노드:\n",
        "                self.레벨단위연결노드[문자] = {\n",
        "                     '연결노드' : Node(),\n",
        "                     '개수' : 1,\n",
        "                }\n",
        "            else:\n",
        "                self.레벨단위연결노드[문자]['개수'] += 1\n",
        "            self = self.레벨단위연결노드[문자]['연결노드']\n",
        "\n",
        "    def get_count(self, 문자열):\n",
        "        for 문자 in 문자열:\n",
        "            if 문자 == '?':\n",
        "                return temp\n",
        "            elif 문자 not in self.레벨단위연결노드:\n",
        "                return 0\n",
        "            temp = self.레벨단위연결노드[문자]['개수']\n",
        "            self = self.레벨단위연결노드[문자]['연결노드']\n",
        "        return self.레벨단위연결노드[문자]['개수']\n",
        "\n",
        "def solution(words, queries):\n",
        "    answer = []\n",
        "\n",
        "    트라이 = [Node() for i in range(10001)]\n",
        "    트라이역순 = [Node() for i in range(10001)]\n",
        "\n",
        "    for word in words:\n",
        "        트라이[len(word)].insert_data('!' + word)\n",
        "        트라이역순[len(word)].insert_data('!' + word[::-1])\n",
        "\n",
        "    for q in queries:\n",
        "        if q[0] != '?':\n",
        "            answer.append(트라이[len(q)].get_count('!' + q))\n",
        "        else:\n",
        "            answer.append(트라이역순[len(q)].get_count('!' + q[::-1]))\n",
        "\n",
        "    return answer\n",
        "\n",
        "solution([\"frodo\", \"front\", \"frost\", \"frozen\", \"frame\", \"kakao\"],\n",
        "         [\"fro??\", \"????o\", \"fr???\", \"fro???\", \"pro?\", \"?????\"])"
      ]
    },
    {
      "cell_type": "code",
      "execution_count": null,
      "metadata": {
        "id": "hOsTWsKj4d7B",
        "outputId": "930b0af2-ca9d-4d46-8723-e0f2fd6b5bc6"
      },
      "outputs": [
        {
          "ename": "MemoryError",
          "evalue": "",
          "output_type": "error",
          "traceback": [
            "\u001b[1;31m---------------------------------------------------------------------------\u001b[0m",
            "\u001b[1;31mMemoryError\u001b[0m                               Traceback (most recent call last)",
            "\u001b[1;32m<ipython-input-491-beed621dd444>\u001b[0m in \u001b[0;36m<module>\u001b[1;34m\u001b[0m\n\u001b[1;32m----> 1\u001b[1;33m \u001b[0ml\u001b[0m \u001b[1;33m=\u001b[0m \u001b[1;33m[\u001b[0m\u001b[1;33m[\u001b[0m\u001b[0mdict\u001b[0m\u001b[1;33m(\u001b[0m\u001b[1;33m)\u001b[0m \u001b[1;32mfor\u001b[0m \u001b[0mj\u001b[0m \u001b[1;32min\u001b[0m \u001b[0mrange\u001b[0m\u001b[1;33m(\u001b[0m\u001b[0mi\u001b[0m\u001b[1;33m+\u001b[0m\u001b[1;36m1\u001b[0m\u001b[1;33m)\u001b[0m\u001b[1;33m]\u001b[0m \u001b[1;32mfor\u001b[0m \u001b[0mi\u001b[0m \u001b[1;32min\u001b[0m \u001b[0mrange\u001b[0m\u001b[1;33m(\u001b[0m\u001b[1;36m100000\u001b[0m\u001b[1;33m)\u001b[0m\u001b[1;33m]\u001b[0m\u001b[1;33m\u001b[0m\u001b[1;33m\u001b[0m\u001b[0m\n\u001b[0m",
            "\u001b[1;32m<ipython-input-491-beed621dd444>\u001b[0m in \u001b[0;36m<listcomp>\u001b[1;34m(.0)\u001b[0m\n\u001b[1;32m----> 1\u001b[1;33m \u001b[0ml\u001b[0m \u001b[1;33m=\u001b[0m \u001b[1;33m[\u001b[0m\u001b[1;33m[\u001b[0m\u001b[0mdict\u001b[0m\u001b[1;33m(\u001b[0m\u001b[1;33m)\u001b[0m \u001b[1;32mfor\u001b[0m \u001b[0mj\u001b[0m \u001b[1;32min\u001b[0m \u001b[0mrange\u001b[0m\u001b[1;33m(\u001b[0m\u001b[0mi\u001b[0m\u001b[1;33m+\u001b[0m\u001b[1;36m1\u001b[0m\u001b[1;33m)\u001b[0m\u001b[1;33m]\u001b[0m \u001b[1;32mfor\u001b[0m \u001b[0mi\u001b[0m \u001b[1;32min\u001b[0m \u001b[0mrange\u001b[0m\u001b[1;33m(\u001b[0m\u001b[1;36m100000\u001b[0m\u001b[1;33m)\u001b[0m\u001b[1;33m]\u001b[0m\u001b[1;33m\u001b[0m\u001b[1;33m\u001b[0m\u001b[0m\n\u001b[0m",
            "\u001b[1;32m<ipython-input-491-beed621dd444>\u001b[0m in \u001b[0;36m<listcomp>\u001b[1;34m(.0)\u001b[0m\n\u001b[1;32m----> 1\u001b[1;33m \u001b[0ml\u001b[0m \u001b[1;33m=\u001b[0m \u001b[1;33m[\u001b[0m\u001b[1;33m[\u001b[0m\u001b[0mdict\u001b[0m\u001b[1;33m(\u001b[0m\u001b[1;33m)\u001b[0m \u001b[1;32mfor\u001b[0m \u001b[0mj\u001b[0m \u001b[1;32min\u001b[0m \u001b[0mrange\u001b[0m\u001b[1;33m(\u001b[0m\u001b[0mi\u001b[0m\u001b[1;33m+\u001b[0m\u001b[1;36m1\u001b[0m\u001b[1;33m)\u001b[0m\u001b[1;33m]\u001b[0m \u001b[1;32mfor\u001b[0m \u001b[0mi\u001b[0m \u001b[1;32min\u001b[0m \u001b[0mrange\u001b[0m\u001b[1;33m(\u001b[0m\u001b[1;36m100000\u001b[0m\u001b[1;33m)\u001b[0m\u001b[1;33m]\u001b[0m\u001b[1;33m\u001b[0m\u001b[1;33m\u001b[0m\u001b[0m\n\u001b[0m",
            "\u001b[1;31mMemoryError\u001b[0m: "
          ]
        }
      ],
      "source": [
        "l = [[dict() for j in range(i+1)] for i in range(100000)]"
      ]
    },
    {
      "cell_type": "code",
      "execution_count": null,
      "metadata": {
        "id": "02fA0x0S4d7C"
      },
      "outputs": [],
      "source": [
        "# 이렇게 해도 메모리 효율이 좋아지지 않습니다.\n",
        "def solution(words, queries):\n",
        "    answer = []\n",
        "\n",
        "    트라이 = [None for i in range(10000)]\n",
        "    트라이역순 = [None for i in range(10000)]\n",
        "\n",
        "    for word in words:\n",
        "        if 트라이[len(word)-1] == None:\n",
        "            트라이[len(word)-1] = Node()\n",
        "            트라이역순[len(word)-1] = Node()\n",
        "            트라이[len(word)-1].insert_data(word)\n",
        "            트라이역순[len(word)-1].insert_data(word[::-1])\n",
        "        else:\n",
        "            트라이[len(word)-1].insert_data(word)\n",
        "            트라이역순[len(word)-1].insert_data(word[::-1])"
      ]
    },
    {
      "cell_type": "markdown",
      "metadata": {
        "id": "mdn6euGB4d7C"
      },
      "source": [
        "## 14번 카카오 2021 공채 문제 1번"
      ]
    },
    {
      "cell_type": "code",
      "execution_count": null,
      "metadata": {
        "id": "HoPXLAld4d7C",
        "outputId": "1b8d79cd-d1b0-448b-9b72-9f40da9997dc"
      },
      "outputs": [
        {
          "data": {
            "text/plain": [
              "'hello worl'"
            ]
          },
          "execution_count": 495,
          "metadata": {},
          "output_type": "execute_result"
        }
      ],
      "source": [
        "'hello world'[:-1]"
      ]
    },
    {
      "cell_type": "code",
      "execution_count": null,
      "metadata": {
        "id": "K9P3ckeq4d7C",
        "outputId": "ddc98258-6b5b-4861-d4bf-7c0626dfc8c7"
      },
      "outputs": [
        {
          "data": {
            "text/plain": [
              "'.bat.y.abcdefghijklm'"
            ]
          },
          "execution_count": 494,
          "metadata": {},
          "output_type": "execute_result"
        }
      ],
      "source": [
        "import re\n",
        "\n",
        "new_id = \"...!@BaT#*..y.abcdefghijklm\"\n",
        "# 1단계 new_id의 모든 대문자를 대응되는 소문자로 치환합니다.\n",
        "new_id = new_id.lower()\n",
        "\n",
        "# 2단계 new_id에서 알파벳 소문자, 숫자, 빼기(-), 밑줄(_), 마침표(.)를 제외한 모든 문자를 제거합니다.\n",
        "패턴 = r'[a-z0-9\\-\\_\\.]+'\n",
        "new_id = ''.join(re.findall(패턴, new_id))\n",
        "\n",
        "# 3단계 new_id에서 마침표(.)가 2번 이상 연속된 부분을 하나의 마침표(.)로 치환합니다.\n",
        "new_id = re.sub('[\\.]+', '.', new_id)\n",
        "\n",
        "# 4단계 new_id에서 마침표(.)가 처음이나 끝에 위치한다면 제거합니다.\n",
        "if new_id[0] == '.':\n",
        "    new_id = new_id[1:]\n",
        "if new_id[-1] == '.':\n",
        "    new_id = new_id[:-1]\n",
        "\n",
        "# 5단계 new_id가 빈 문자열이라면, new_id에 \"a\"를 대입합니다.\n",
        "if new_id == '':\n",
        "    new_id = 'a'\n",
        "\n",
        "# 6단계 new_id의 길이가 16자 이상이면, new_id의 첫 15개의 문자를 제외한 나머지 문자들을 모두 제거합니다.\n",
        "#      만약 제거 후 마침표(.)가 new_id의 끝에 위치한다면 끝에 위치한 마침표(.) 문자를 제거합니다.\n",
        "if len(new_id) >= 16:\n",
        "    new_id = new_id[:15]\n",
        "    if new_id[-1] == '.':\n",
        "        new_id = new_id[:-1]\n",
        "\n",
        "# 7단계 new_id의 길이가 2자 이하라면, new_id의 마지막 문자를 new_id의 길이가 3이 될 때까지 반복해서 끝에 붙입니다.\n",
        "for len(new_id) <= 2:\n",
        "    for i in range(3):\n",
        "        new_id += new_id[-1]\n",
        "        if len(new_id) == 3:\n",
        "            break"
      ]
    },
    {
      "cell_type": "code",
      "execution_count": null,
      "metadata": {
        "id": "eBg5uzJ-4d7D",
        "outputId": "8cababa6-ff97-4188-c295-a59021f0b745"
      },
      "outputs": [
        {
          "data": {
            "text/plain": [
              "'aaa'"
            ]
          },
          "execution_count": 500,
          "metadata": {},
          "output_type": "execute_result"
        }
      ],
      "source": [
        "import re\n",
        "\n",
        "def solution(new_id):\n",
        "    # 5단계 + 7단계\n",
        "    if new_id == '':\n",
        "        return 'aaa'\n",
        "\n",
        "    # 1단계 new_id의 모든 대문자를 대응되는 소문자로 치환합니다.\n",
        "    new_id = new_id.lower()\n",
        "\n",
        "    # 2단계 new_id에서 알파벳 소문자, 숫자, 빼기(-), 밑줄(_), 마침표(.)를 제외한 모든 문자를 제거합니다.\n",
        "    패턴 = r'[a-z0-9\\-\\_\\.]+'\n",
        "    new_id = ''.join(re.findall(패턴, new_id))\n",
        "\n",
        "    # 3단계 new_id에서 마침표(.)가 2번 이상 연속된 부분을 하나의 마침표(.)로 치환합니다.\n",
        "    new_id = re.sub('[\\.]+', '.', new_id)\n",
        "\n",
        "    if new_id == '.':\n",
        "        return 'aaa'\n",
        "    # 4단계 new_id에서 마침표(.)가 처음이나 끝에 위치한다면 제거합니다.\n",
        "    if new_id[0] == '.':\n",
        "        new_id = new_id[1:]\n",
        "    if new_id[-1] == '.':\n",
        "        new_id = new_id[:-1]\n",
        "\n",
        "    # 5단계 new_id가 빈 문자열이라면, new_id에 \"a\"를 대입합니다.\n",
        "    if new_id == '':\n",
        "        new_id = 'a'\n",
        "\n",
        "    # 6단계 new_id의 길이가 16자 이상이면, new_id의 첫 15개의 문자를 제외한 나머지 문자들을 모두 제거합니다.\n",
        "    #      만약 제거 후 마침표(.)가 new_id의 끝에 위치한다면 끝에 위치한 마침표(.) 문자를 제거합니다.\n",
        "    if len(new_id) >= 16:\n",
        "        new_id = new_id[:15]\n",
        "        if new_id[-1] == '.':\n",
        "            new_id = new_id[:-1]\n",
        "\n",
        "    # 7단계 new_id의 길이가 2자 이하라면, new_id의 마지막 문자를 new_id의 길이가 3이 될 때까지 반복해서 끝에 붙입니다.\n",
        "    if len(new_id) <= 2:\n",
        "        for i in range(3):\n",
        "            new_id += new_id[-1]\n",
        "            if len(new_id) == 3:\n",
        "                break\n",
        "\n",
        "    return new_id\n",
        "\n",
        "solution('.............................')"
      ]
    },
    {
      "cell_type": "markdown",
      "metadata": {
        "id": "rf9nkx434d7D"
      },
      "source": [
        "## 15번 카카오 2021 공채 문제 2번"
      ]
    },
    {
      "cell_type": "code",
      "execution_count": null,
      "metadata": {
        "id": "kANI16_W4d7E",
        "outputId": "61da5218-46c3-433a-c2fa-f4b691640ffa"
      },
      "outputs": [
        {
          "data": {
            "text/plain": [
              "[('A', 'B', 'C'),\n",
              " ('A', 'B', 'F'),\n",
              " ('A', 'B', 'G'),\n",
              " ('A', 'B', 'K'),\n",
              " ('A', 'C', 'F'),\n",
              " ('A', 'C', 'G'),\n",
              " ('A', 'C', 'K'),\n",
              " ('A', 'F', 'G'),\n",
              " ('A', 'F', 'K'),\n",
              " ('A', 'G', 'K'),\n",
              " ('B', 'C', 'F'),\n",
              " ('B', 'C', 'G'),\n",
              " ('B', 'C', 'K'),\n",
              " ('B', 'F', 'G'),\n",
              " ('B', 'F', 'K'),\n",
              " ('B', 'G', 'K'),\n",
              " ('C', 'F', 'G'),\n",
              " ('C', 'F', 'K'),\n",
              " ('C', 'G', 'K'),\n",
              " ('F', 'G', 'K')]"
            ]
          },
          "execution_count": 507,
          "metadata": {},
          "output_type": "execute_result"
        }
      ],
      "source": [
        "import itertools\n",
        "\n",
        "test = [\"KABCFG\", \"AC\", \"CDE\", \"ACDE\", \"BCFG\", \"ACDEH\"]\n",
        "test = [sorted(i) for i in test]\n",
        "test\n",
        "\n",
        "전제조합 = []\n",
        "\n",
        "list(itertools.combinations(test[0], 1))\n",
        "list(itertools.combinations(test[0], 2))\n",
        "list(itertools.combinations(test[0], 3))"
      ]
    },
    {
      "cell_type": "code",
      "execution_count": null,
      "metadata": {
        "id": "7IkwdFZg4d7E"
      },
      "outputs": [],
      "source": [
        "for _ in range(2, 2):\n",
        "    print('d')"
      ]
    },
    {
      "cell_type": "code",
      "execution_count": null,
      "metadata": {
        "id": "aMSq-3Pw4d7E",
        "outputId": "53149091-70d6-46e7-8d86-f9beb9cdfa56"
      },
      "outputs": [
        {
          "name": "stdout",
          "output_type": "stream",
          "text": [
            "[['A', 'B', 'C', 'F', 'G', 'K'], ['A', 'C'], ['C', 'D', 'E'], ['A', 'C', 'D', 'E'], ['B', 'C', 'F', 'G'], ['A', 'C', 'D', 'E', 'H']]\n"
          ]
        },
        {
          "data": {
            "text/plain": [
              "[('A',),\n",
              " ('B',),\n",
              " ('C',),\n",
              " ('F',),\n",
              " ('G',),\n",
              " ('K',),\n",
              " ('A', 'B'),\n",
              " ('A', 'C'),\n",
              " ('A', 'F'),\n",
              " ('A', 'G'),\n",
              " ('A', 'K'),\n",
              " ('B', 'C'),\n",
              " ('B', 'F'),\n",
              " ('B', 'G'),\n",
              " ('B', 'K'),\n",
              " ('C', 'F'),\n",
              " ('C', 'G'),\n",
              " ('C', 'K'),\n",
              " ('F', 'G'),\n",
              " ('F', 'K'),\n",
              " ('G', 'K'),\n",
              " ('A', 'B', 'C'),\n",
              " ('A', 'B', 'F'),\n",
              " ('A', 'B', 'G'),\n",
              " ('A', 'B', 'K'),\n",
              " ('A', 'C', 'F'),\n",
              " ('A', 'C', 'G'),\n",
              " ('A', 'C', 'K'),\n",
              " ('A', 'F', 'G'),\n",
              " ('A', 'F', 'K'),\n",
              " ('A', 'G', 'K'),\n",
              " ('B', 'C', 'F'),\n",
              " ('B', 'C', 'G'),\n",
              " ('B', 'C', 'K'),\n",
              " ('B', 'F', 'G'),\n",
              " ('B', 'F', 'K'),\n",
              " ('B', 'G', 'K'),\n",
              " ('C', 'F', 'G'),\n",
              " ('C', 'F', 'K'),\n",
              " ('C', 'G', 'K'),\n",
              " ('F', 'G', 'K'),\n",
              " ('A', 'B', 'C', 'F'),\n",
              " ('A', 'B', 'C', 'G'),\n",
              " ('A', 'B', 'C', 'K'),\n",
              " ('A', 'B', 'F', 'G'),\n",
              " ('A', 'B', 'F', 'K'),\n",
              " ('A', 'B', 'G', 'K'),\n",
              " ('A', 'C', 'F', 'G'),\n",
              " ('A', 'C', 'F', 'K'),\n",
              " ('A', 'C', 'G', 'K'),\n",
              " ('A', 'F', 'G', 'K'),\n",
              " ('B', 'C', 'F', 'G'),\n",
              " ('B', 'C', 'F', 'K'),\n",
              " ('B', 'C', 'G', 'K'),\n",
              " ('B', 'F', 'G', 'K'),\n",
              " ('C', 'F', 'G', 'K'),\n",
              " ('A', 'B', 'C', 'F', 'G'),\n",
              " ('A', 'B', 'C', 'F', 'K'),\n",
              " ('A', 'B', 'C', 'G', 'K'),\n",
              " ('A', 'B', 'F', 'G', 'K'),\n",
              " ('A', 'C', 'F', 'G', 'K'),\n",
              " ('B', 'C', 'F', 'G', 'K'),\n",
              " ('A', 'B', 'C', 'F', 'G', 'K'),\n",
              " ('A',),\n",
              " ('C',),\n",
              " ('A', 'C'),\n",
              " ('C',),\n",
              " ('D',),\n",
              " ('E',),\n",
              " ('C', 'D'),\n",
              " ('C', 'E'),\n",
              " ('D', 'E'),\n",
              " ('C', 'D', 'E'),\n",
              " ('A',),\n",
              " ('C',),\n",
              " ('D',),\n",
              " ('E',),\n",
              " ('A', 'C'),\n",
              " ('A', 'D'),\n",
              " ('A', 'E'),\n",
              " ('C', 'D'),\n",
              " ('C', 'E'),\n",
              " ('D', 'E'),\n",
              " ('A', 'C', 'D'),\n",
              " ('A', 'C', 'E'),\n",
              " ('A', 'D', 'E'),\n",
              " ('C', 'D', 'E'),\n",
              " ('A', 'C', 'D', 'E'),\n",
              " ('B',),\n",
              " ('C',),\n",
              " ('F',),\n",
              " ('G',),\n",
              " ('B', 'C'),\n",
              " ('B', 'F'),\n",
              " ('B', 'G'),\n",
              " ('C', 'F'),\n",
              " ('C', 'G'),\n",
              " ('F', 'G'),\n",
              " ('B', 'C', 'F'),\n",
              " ('B', 'C', 'G'),\n",
              " ('B', 'F', 'G'),\n",
              " ('C', 'F', 'G'),\n",
              " ('B', 'C', 'F', 'G'),\n",
              " ('A',),\n",
              " ('C',),\n",
              " ('D',),\n",
              " ('E',),\n",
              " ('H',),\n",
              " ('A', 'C'),\n",
              " ('A', 'D'),\n",
              " ('A', 'E'),\n",
              " ('A', 'H'),\n",
              " ('C', 'D'),\n",
              " ('C', 'E'),\n",
              " ('C', 'H'),\n",
              " ('D', 'E'),\n",
              " ('D', 'H'),\n",
              " ('E', 'H'),\n",
              " ('A', 'C', 'D'),\n",
              " ('A', 'C', 'E'),\n",
              " ('A', 'C', 'H'),\n",
              " ('A', 'D', 'E'),\n",
              " ('A', 'D', 'H'),\n",
              " ('A', 'E', 'H'),\n",
              " ('C', 'D', 'E'),\n",
              " ('C', 'D', 'H'),\n",
              " ('C', 'E', 'H'),\n",
              " ('D', 'E', 'H'),\n",
              " ('A', 'C', 'D', 'E'),\n",
              " ('A', 'C', 'D', 'H'),\n",
              " ('A', 'C', 'E', 'H'),\n",
              " ('A', 'D', 'E', 'H'),\n",
              " ('C', 'D', 'E', 'H'),\n",
              " ('A', 'C', 'D', 'E', 'H')]"
            ]
          },
          "execution_count": 514,
          "metadata": {},
          "output_type": "execute_result"
        }
      ],
      "source": [
        "import itertools\n",
        "\n",
        "test = [\"KABCFG\", \"AC\", \"CDE\", \"ACDE\", \"BCFG\", \"ACDEH\"]\n",
        "test = [sorted(i) for i in test]\n",
        "전체조합 = []\n",
        "print(test)\n",
        "\n",
        "for i in test:\n",
        "    for j in range(1, len(i) + 1):\n",
        "        전체조합.extend(list(itertools.combinations(i, j)))\n",
        "\n",
        "전체조합"
      ]
    },
    {
      "cell_type": "code",
      "execution_count": null,
      "metadata": {
        "id": "KtB-BlsO4d7F",
        "outputId": "91a16b86-1788-4f47-aa8e-4f50ff88fe83"
      },
      "outputs": [
        {
          "name": "stdout",
          "output_type": "stream",
          "text": [
            "[['A', 'B', 'C', 'F', 'G', 'K'], ['A', 'C'], ['C', 'D', 'E'], ['A', 'C', 'D', 'E'], ['B', 'C', 'F', 'G'], ['A', 'C', 'D', 'E', 'H']]\n"
          ]
        },
        {
          "data": {
            "text/plain": [
              "dict_values([4, 2, 6, 2, 2, 1, 1, 4, 1, 1, 1, 2, 2, 2, 1, 2, 2, 1, 2, 1, 1, 1, 1, 1, 1, 1, 1, 1, 1, 1, 1, 2, 2, 1, 2, 1, 1, 2, 1, 1, 1, 1, 1, 1, 1, 1, 1, 1, 1, 1, 1, 2, 1, 1, 1, 1, 1, 1, 1, 1, 1, 1, 1, 3, 3, 3, 3, 3, 3, 2, 2, 2, 2, 2, 2, 1, 1, 1, 1, 1, 1, 1, 1, 1, 1, 1, 1, 1, 1, 1, 1])"
            ]
          },
          "execution_count": 520,
          "metadata": {},
          "output_type": "execute_result"
        }
      ],
      "source": [
        "import itertools\n",
        "from collections import Counter\n",
        "\n",
        "test = [\"KABCFG\", \"AC\", \"CDE\", \"ACDE\", \"BCFG\", \"ACDEH\"]\n",
        "test = [sorted(i) for i in test]\n",
        "전체조합 = []\n",
        "print(test)\n",
        "\n",
        "for i in test:\n",
        "    for j in range(1, len(i) + 1):\n",
        "        전체조합.extend(list(itertools.combinations(i, j)))\n",
        "\n",
        "Counter(전체조합)\n",
        "Counter(전체조합)[('A',)]\n",
        "Counter(전체조합).values()"
      ]
    },
    {
      "cell_type": "code",
      "execution_count": null,
      "metadata": {
        "id": "G3On1ILo4d7H"
      },
      "outputs": [],
      "source": [
        "import itertools\n",
        "from collections import Counter\n",
        "\n",
        "def solution(orders, course):\n",
        "    answer = []\n",
        "    orders = [sorted(i) for i in orders]\n",
        "\n",
        "    for 조합수 in course:\n",
        "        전체조합 = []\n",
        "        for 메뉴 in orders:\n",
        "            전체조합.extend(list(itertools.combinations(메뉴, 조합수)))\n",
        "\n",
        "        전체조합 = Counter(전체조합)\n",
        "        if len(전체조합) != 0 and max(전체조합.values()) != 1:\n",
        "            for 개별조합 in 전체조합:\n",
        "                if 전체조합[개별조합] == max(전체조합.values()):\n",
        "                    answer.append(''.join(개별조합))\n",
        "    return sorted(answer)\n",
        "\n",
        "solution([\"KABCFG\", \"AC\", \"CDE\", \"ACDE\", \"BCFG\", \"ACDEH\"], [2,3,4])"
      ]
    }
  ],
  "metadata": {
    "kernelspec": {
      "display_name": "Python 3",
      "language": "python",
      "name": "python3"
    },
    "language_info": {
      "codemirror_mode": {
        "name": "ipython",
        "version": 3
      },
      "file_extension": ".py",
      "mimetype": "text/x-python",
      "name": "python",
      "nbconvert_exporter": "python",
      "pygments_lexer": "ipython3",
      "version": "3.8.5"
    },
    "colab": {
      "provenance": [],
      "include_colab_link": true
    }
  },
  "nbformat": 4,
  "nbformat_minor": 0
}